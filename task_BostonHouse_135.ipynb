{
 "cells": [
  {
   "cell_type": "markdown",
   "metadata": {},
   "source": [
    "## 課題 ボストン住宅価格 線形回帰\n",
    "\n",
    "### 1. 線形回帰とは何か\n",
    "以下の観点を全て含めて記述しましょう。\n",
    "\n",
    "・線形回帰とは何か。  \n",
    "・具体的に言うと？  \n",
    "・分類と何が違うのか。  "
   ]
  },
  {
   "cell_type": "markdown",
   "metadata": {},
   "source": [
    "#### 答え:\n",
    "線形回帰とは、発生したある「結果」が、その様な結果に至る「原因」を、「線」の形を用いて分析する統計学の回帰分析のこと。  \n",
    "回帰分析とは、結果を「目的変数」（あるいは従属変数）、原因を「説明変数」（あるいは独立変数）とし、それぞれの関係を「回帰式」を用いて調べること。  \n",
    "  \n",
    "具体的に言うと、結果となる目的変数を「y」、その原因とはる説明変数を「x」とし、それぞれの関係を「y = ax + b」あるいは「y = ax + bx + c」の形の回帰式で表す。  \n",
    "その回帰式で表される線と、目的変数と説明変数がとる「点」との差を「距離」として測り、その距離が短い線を描けるようなモデルを構築することが、目的となる。  \n",
    "そのモデル構築の手法としては、全ての点と線の距離を測る「最小２乗法」を用いることができる。  \n",
    "最小２乗法を用いることにより、マイナスとなる値をマイナス同士の掛け合いでプラスになり、値を一律プラスに統一し、誤差を無くすことができる。  \n",
    "  \n",
    "分類との違いは、まず、「分類」は取得したデータをそれぞれ同一のグループに分けることであり、「分析」は分類されたデータ同士の関係や影響度合いを、統計学の知識や技術を用いて見つけ出すこと。  \n",
    "つまり、データを「分類」し、分類されたデータを「分析」する。  \n",
    "  \n",
    "*参考文献:  \n",
    "Diverのテキスト  \n",
    "https://www.gixo.jp/blog/2373/  \n",
    "https://ja.wikipedia.org/wiki/線形回帰  \n",
    "https://kotobank.jp/word/回帰式-224364  \n",
    "http://blogs.teradata.com/international/ja/hhg9/  \n",
    "https://qiita.com/ishizakiiii/items/72be4ce16a10f97d6183  \n",
    "https://ja.wikipedia.org/wiki/分類_(統計学)*  "
   ]
  },
  {
   "cell_type": "markdown",
   "metadata": {},
   "source": [
    "#### 必要なライブラリをimportする"
   ]
  },
  {
   "cell_type": "code",
   "execution_count": 140,
   "metadata": {
    "collapsed": true
   },
   "outputs": [],
   "source": [
    "import numpy as np\n",
    "import pandas as pd\n",
    "import matplotlib.pyplot as plt\n",
    "from sklearn.model_selection import train_test_split\n",
    "from sklearn.datasets import load_boston\n",
    "from scipy.stats import zscore\n",
    "from sklearn.linear_model import LinearRegression\n",
    "from sklearn.preprocessing import PolynomialFeatures\n",
    "from sklearn.metrics import mean_squared_error"
   ]
  },
  {
   "cell_type": "markdown",
   "metadata": {},
   "source": [
    "### 2. データを取得する"
   ]
  },
  {
   "cell_type": "code",
   "execution_count": 141,
   "metadata": {
    "collapsed": true
   },
   "outputs": [],
   "source": [
    "%matplotlib inline\n",
    "boston = load_boston()"
   ]
  },
  {
   "cell_type": "markdown",
   "metadata": {},
   "source": [
    "### 3. 取得データをDataFrameにする"
   ]
  },
  {
   "cell_type": "code",
   "execution_count": 142,
   "metadata": {
    "collapsed": false
   },
   "outputs": [],
   "source": [
    "X = pd.DataFrame(boston.data[:100,:], columns = boston.feature_names)\n",
    "y = pd.DataFrame(boston.target[:100])"
   ]
  },
  {
   "cell_type": "markdown",
   "metadata": {},
   "source": [
    "### 4. 説明変数を'LSTAT'のみにする"
   ]
  },
  {
   "cell_type": "code",
   "execution_count": 143,
   "metadata": {
    "collapsed": true
   },
   "outputs": [],
   "source": [
    "x = X.loc[:, ['LSTAT']].as_matrix()"
   ]
  },
  {
   "cell_type": "markdown",
   "metadata": {},
   "source": [
    "### 5. 単回帰と重回帰についての違いを記述せよ"
   ]
  },
  {
   "cell_type": "markdown",
   "metadata": {},
   "source": [
    "#### 答え:\n",
    "単回帰とは、原因とする「説明変数」を「一種類」、結果となる「目的変数」も「一種類」とし、その変数同士の関係を表すこと。  \n",
    "つまり、一種類のデータから結果を分析あるいは予測すること。  \n",
    "単回帰式は、一例として「y = ax + b」の形をとる。  \n",
    "重回帰とは、原因とする「説明変数」を「複数種類」、結果となる「目的変数」を「一種類」とし、その変数同士の関係を表すこと。  \n",
    "つまり、複数種類のデータから結果を分析あるいは予測すること。  \n",
    "重回帰式は、一例として「y = ax + bx + c」の形をとる。  \n",
    "\n",
    "*参考文献:  \n",
    "Diverのテキスト  \n",
    "http://www.ner.takushoku-u.ac.jp/masano/class_material/waseda/keiryo/9_reg1.html*"
   ]
  },
  {
   "cell_type": "code",
   "execution_count": 144,
   "metadata": {
    "collapsed": false
   },
   "outputs": [],
   "source": [
    "# X.head()\n",
    "# y.head()"
   ]
  },
  {
   "cell_type": "markdown",
   "metadata": {},
   "source": [
    "### 6. テストデータに分割する"
   ]
  },
  {
   "cell_type": "code",
   "execution_count": 145,
   "metadata": {
    "collapsed": false
   },
   "outputs": [
    {
     "name": "stdout",
     "output_type": "stream",
     "text": [
      "x_train: (80, 1) , X_test: (20, 1) , y_train: (80, 1) , y_test: (20, 1)\n"
     ]
    }
   ],
   "source": [
    "# 雛形にある「X_train」は「x_train」、「X_test」は「x_test」、仮引数「X」は「x」に変更\n",
    "# 理由は、「'LSTAT'」は変数「x」に代入しているため\n",
    "x_train, x_test, y_train, y_test = train_test_split(x, y, test_size = 0.2, random_state = 0)\n",
    "print('x_train:', x_train.shape, ', X_test:', x_test.shape, ', y_train:', y_train.shape, ', y_test:', y_test.shape)"
   ]
  },
  {
   "cell_type": "markdown",
   "metadata": {},
   "source": [
    "### 7. 学習"
   ]
  },
  {
   "cell_type": "code",
   "execution_count": 146,
   "metadata": {
    "collapsed": false
   },
   "outputs": [
    {
     "data": {
      "text/plain": [
       "LinearRegression(copy_X=True, fit_intercept=True, n_jobs=1, normalize=False)"
      ]
     },
     "execution_count": 146,
     "metadata": {},
     "output_type": "execute_result"
    }
   ],
   "source": [
    "lin_1d = LinearRegression()\n",
    "lin_1d.fit(x_train, y_train)"
   ]
  },
  {
   "cell_type": "markdown",
   "metadata": {},
   "source": [
    "### 8. 決定係数"
   ]
  },
  {
   "cell_type": "code",
   "execution_count": 147,
   "metadata": {
    "collapsed": false,
    "scrolled": true
   },
   "outputs": [
    {
     "name": "stdout",
     "output_type": "stream",
     "text": [
      "一次式における'LSTAT'の住宅価格への決定係数は、　「0.581 」\n"
     ]
    }
   ],
   "source": [
    "score_1d = lin_1d.score(x_train, y_train)\n",
    "# 決定係数は小数点以下３桁にしてみました。\n",
    "print(\"一次式における'LSTAT'の住宅価格への決定係数は、　「%.3f\"%(score_1d),\"」\")"
   ]
  },
  {
   "cell_type": "markdown",
   "metadata": {},
   "source": [
    "### 9. 決定係数は何か記述せよ"
   ]
  },
  {
   "cell_type": "markdown",
   "metadata": {},
   "source": [
    "#### 答え:\n",
    "決定係数とは、説明変数と目的変数との関係度合いあるいは影響度合いを数字で表したもの。  \n",
    "決定係数は、「R²」で表し、算出式は次の通り。  \n",
    "\n",
    "> R² = 1 - ((目的変数 - 推測値)² / (目的変数 - 目的変数の平均値)²) \n",
    "  \n",
    "この計算をデータの個数分実施するため、下記の式になる。  \n",
    "  \n",
    "> R² = 1 - (Σ(iからnまで)(目的変数i - 推測値i)²を個数で割る / Σ(iからnまで)(目的変数i - 目的変数の平均値i)²を個数で割る)  \n",
    "  \n",
    "推測値と目的変数の平均値の差が大きい場合は「０」に近く、その反対の場合は「１」に近くなる。  \n",
    "つまり、１に近ければ、関係度合いあるいは影響度合いが高いことを表す。  \n",
    "  \n",
    "*参考文献:  \n",
    "Diverのテキスト  \n",
    "https://ja.wikipedia.org/wiki/決定係数*"
   ]
  },
  {
   "cell_type": "markdown",
   "metadata": {},
   "source": [
    "### 10. 決定係数をいかなる場合も信じて良いか記述せよ（決定係数が高ければ、汎用性があるモデルと言えるか）"
   ]
  },
  {
   "cell_type": "markdown",
   "metadata": {},
   "source": [
    "#### 答え:\n",
    "決定係数が高いと言うことは、構築されたモデルが高い精度で予測できていることを表し、良いモデルと言えることもできる。  \n",
    "しかし、これは学習に使用したデータに対して当てはまることであり、未知のデータに対しても高い精度で予測できるとは限らない。  \n",
    "学習に使用したデータを過学習した特化型のモデルになっている可能性があり、未知のデータを与えた場合、精度の低い予測をしてしまう可能性がある。  \n",
    "従って、決定係数が高ければ、汎用性があるモデルとは必ずしも言えない。 \n",
    "  \n",
    "*参考文献:  \n",
    "Diverのテキスト  \n",
    "https://ja.wikipedia.org/wiki/決定係数  \n",
    "http://xica.net/magellan/marketing-idea/stats/about-coefficient-of-determination/*  "
   ]
  },
  {
   "cell_type": "markdown",
   "metadata": {},
   "source": [
    "### 11. ２、３、４次式の回帰"
   ]
  },
  {
   "cell_type": "code",
   "execution_count": 148,
   "metadata": {
    "collapsed": false
   },
   "outputs": [
    {
     "name": "stdout",
     "output_type": "stream",
     "text": [
      "二次式における'LSTAT'の住宅価格への決定係数は、「0.702 」\n",
      "三次式における'LSTAT'の住宅価格への決定係数は、「0.722 」\n",
      "四次式における'LSTAT'の住宅価格への決定係数は、「0.734 」\n",
      "五次式における'LSTAT'の住宅価格への決定係数は、「0.734 」\n",
      "六次式における'LSTAT'の住宅価格への決定係数は、「0.738 」\n",
      "七次式における'LSTAT'の住宅価格への決定係数は、「0.740 」\n",
      "十次式における'LSTAT'の住宅価格への決定係数は、「0.748 」\n"
     ]
    }
   ],
   "source": [
    "# ５次式、６次式、７次式、１０次式も追加してみました。\n",
    "lin_2d = LinearRegression()\n",
    "lin_3d = LinearRegression()\n",
    "lin_4d = LinearRegression()\n",
    "lin_5d = LinearRegression()\n",
    "lin_6d = LinearRegression()\n",
    "lin_7d = LinearRegression()\n",
    "lin_10d = LinearRegression()\n",
    "\n",
    "degree_2 = PolynomialFeatures(degree = 2)\n",
    "degree_3 = PolynomialFeatures(degree = 3)\n",
    "degree_4 = PolynomialFeatures(degree = 4)\n",
    "degree_5 = PolynomialFeatures(degree = 5)\n",
    "degree_6 = PolynomialFeatures(degree = 6)\n",
    "degree_7 = PolynomialFeatures(degree = 7)\n",
    "degree_10 = PolynomialFeatures(degree = 10)\n",
    "\n",
    "x_train_2 = degree_2.fit_transform(x_train)\n",
    "x_train_3 = degree_3.fit_transform(x_train)\n",
    "x_train_4 = degree_4.fit_transform(x_train)\n",
    "x_train_5 = degree_5.fit_transform(x_train)\n",
    "x_train_6 = degree_6.fit_transform(x_train)\n",
    "x_train_7 = degree_7.fit_transform(x_train)\n",
    "x_train_10 = degree_10.fit_transform(x_train)\n",
    "\n",
    "lin_2d.fit(x_train_2, y_train)\n",
    "lin_3d.fit(x_train_3, y_train)\n",
    "lin_4d.fit(x_train_4, y_train)\n",
    "lin_5d.fit(x_train_5, y_train)\n",
    "lin_6d.fit(x_train_6, y_train)\n",
    "lin_7d.fit(x_train_7, y_train)\n",
    "lin_10d.fit(x_train_10, y_train)\n",
    "\n",
    "score_2d = lin_2d.score(x_train_2, y_train)\n",
    "score_3d = lin_3d.score(x_train_3, y_train)\n",
    "score_4d = lin_4d.score(x_train_4, y_train)\n",
    "score_5d = lin_5d.score(x_train_5, y_train)\n",
    "score_6d = lin_6d.score(x_train_6, y_train)\n",
    "score_7d = lin_7d.score(x_train_7, y_train)\n",
    "score_10d = lin_10d.score(x_train_10, y_train)\n",
    "\n",
    "# 決定係数は小数点以下３桁にしてみました。\n",
    "print(\"二次式における'LSTAT'の住宅価格への決定係数は、「%.3f\"%(score_2d), \"」\")\n",
    "print(\"三次式における'LSTAT'の住宅価格への決定係数は、「%.3f\"%(score_3d), \"」\")\n",
    "print(\"四次式における'LSTAT'の住宅価格への決定係数は、「%.3f\"%(score_4d), \"」\")\n",
    "print(\"五次式における'LSTAT'の住宅価格への決定係数は、「%.3f\"%(score_5d), \"」\")\n",
    "print(\"六次式における'LSTAT'の住宅価格への決定係数は、「%.3f\"%(score_6d), \"」\")\n",
    "print(\"七次式における'LSTAT'の住宅価格への決定係数は、「%.3f\"%(score_7d), \"」\")\n",
    "print(\"十次式における'LSTAT'の住宅価格への決定係数は、「%.3f\"%(score_10d), \"」\")"
   ]
  },
  {
   "cell_type": "markdown",
   "metadata": {},
   "source": [
    "### 12. 次数が大きくなるとどうなるか記述せよ"
   ]
  },
  {
   "cell_type": "markdown",
   "metadata": {},
   "source": [
    "#### 回答:  \n",
    "次数が大きくなると与えられたデータに良く反応するモデルが構築される。  \n",
    "散布図と回帰式は、下記の通り。  \n",
    "メリットとしては、データに良く反応しているため、表現力の高い予測が良くできるモデルとなる。  \n",
    "デメリットとしては、ノイズと考えられる発生確率の少ないデータにも反応し、汎用的なモデルではなくなってしまう。 \n",
    "下記の十次の回帰式において「LSTAT」が「25」のところでノイズと考えられるデータに反応している。"
   ]
  },
  {
   "cell_type": "code",
   "execution_count": 149,
   "metadata": {
    "collapsed": false,
    "scrolled": true
   },
   "outputs": [
    {
     "data": {
      "text/plain": [
       "<function matplotlib.pyplot.plot>"
      ]
     },
     "execution_count": 149,
     "metadata": {},
     "output_type": "execute_result"
    },
    {
     "data": {
      "image/png": "[encoded data removed]",
      "text/plain": [
       "<matplotlib.figure.Figure at 0x11c9804a8>"
      ]
     },
     "metadata": {},
     "output_type": "display_data"
    }
   ],
   "source": [
    "n = np.linspace(np.min(x), np.max(x), 1000)\n",
    "y_1d_fit = lin_1d.predict(n[:, np.newaxis])\n",
    "y_2d_fit = lin_2d.predict(degree_2.fit_transform(n[:, np.newaxis]))\n",
    "y_3d_fit = lin_3d.predict(degree_3.fit_transform(n[:, np.newaxis]))\n",
    "y_4d_fit = lin_4d.predict(degree_4.fit_transform(n[:, np.newaxis]))\n",
    "y_5d_fit = lin_5d.predict(degree_5.fit_transform(n[:, np.newaxis]))\n",
    "y_6d_fit = lin_6d.predict(degree_6.fit_transform(n[:, np.newaxis]))\n",
    "y_7d_fit = lin_7d.predict(degree_7.fit_transform(n[:, np.newaxis]))\n",
    "y_10d_fit = lin_10d.predict(degree_10.fit_transform(n[:, np.newaxis]))\n",
    "\n",
    "plt.title(\"Boston House Price\")\n",
    "plt.scatter(x, y, label = \"data\")\n",
    "plt.plot(n, y_1d_fit, \"k\", label = \"1d_lin\")\n",
    "plt.plot(n, y_2d_fit, \"b\", label = \"2d_lin\")\n",
    "plt.plot(n, y_3d_fit, \"g\", label = \"3d_lin\")\n",
    "plt.plot(n, y_4d_fit, \"m\", label = \"4d_lin\")\n",
    "plt.plot(n, y_5d_fit, \"c\", label = \"5d_lin\")\n",
    "plt.plot(n, y_6d_fit, \"r\", label = \"6d_lin\")\n",
    "plt.plot(n, y_7d_fit, \"y\", label = \"7d_lin\")\n",
    "plt.plot(n, y_10d_fit, \"b\", label = \"10d_lin\")\n",
    "plt.ylim(10, 45)\n",
    "plt.xlabel(\"LSTAT\")\n",
    "plt.ylabel(\"price\")\n",
    "plt.legend()\n",
    "plt.plot"
   ]
  },
  {
   "cell_type": "markdown",
   "metadata": {},
   "source": [
    "### 13. 重回帰"
   ]
  },
  {
   "cell_type": "code",
   "execution_count": 150,
   "metadata": {
    "collapsed": false
   },
   "outputs": [
    {
     "name": "stdout",
     "output_type": "stream",
     "text": [
      "一次式における'RM'と'LSTAT'の住宅価格への決定係数は、「0.811 」\n",
      "二次式における'RM'と'LSTAT'の住宅価格への決定係数は、「0.882 」\n",
      "三次式における'RM'と'LSTAT'の住宅価格への決定係数は、「0.887 」\n",
      "四次式における'RM'と'LSTAT'の住宅価格への決定係数は、「0.899 」\n"
     ]
    }
   ],
   "source": [
    "# 重回帰の説明変数として「RM」と「LSTAT」を使用\n",
    "# RM: 一住居あたりの平均的な部屋の数\n",
    "# LSTAT: ステータスの低い人口の割合\n",
    "# これらを説明変数として使用する理由は、一次回帰において「RM」は決定係数が「0.707」、\n",
    "#「LSTAT」は決定係数が「0.581」と全データの中で係数が最も高い特徴量のため\n",
    "\n",
    "boston = load_boston()\n",
    "Xm = pd.DataFrame(boston.data[:100,:], columns = boston.feature_names)\n",
    "ym = pd.DataFrame(boston.target[:100])\n",
    "xm = Xm.loc[:, ['RM', 'LSTAT']].as_matrix()\n",
    "xm_train, xm_test, ym_train, ym_test = train_test_split(xm, ym, test_size = 0.2, random_state = 0)\n",
    "\n",
    "lin_1dm = LinearRegression()\n",
    "lin_2dm = LinearRegression()\n",
    "lin_3dm = LinearRegression()\n",
    "lin_4dm = LinearRegression()\n",
    "\n",
    "degree_2m = PolynomialFeatures(degree = 2)\n",
    "degree_3m = PolynomialFeatures(degree = 3)\n",
    "degree_4m = PolynomialFeatures(degree = 4)\n",
    "\n",
    "xm_train_2 = degree_2.fit_transform(xm_train)\n",
    "xm_train_3 = degree_3.fit_transform(xm_train)\n",
    "xm_train_4 = degree_4.fit_transform(xm_train)\n",
    "\n",
    "lin_1dm.fit(xm_train, ym_train)\n",
    "lin_2dm.fit(xm_train_2, ym_train)\n",
    "lin_3dm.fit(xm_train_3, ym_train)\n",
    "lin_4dm.fit(xm_train_4, ym_train)\n",
    "\n",
    "score_1dm = lin_1dm.score(xm_train, ym_train)\n",
    "score_2dm = lin_2dm.score(xm_train_2, ym_train)\n",
    "score_3dm = lin_3dm.score(xm_train_3, ym_train)\n",
    "score_4dm = lin_4dm.score(xm_train_4, ym_train)\n",
    "\n",
    "# 決定係数は小数点以下３桁にしてみました。\n",
    "print(\"一次式における'RM'と'LSTAT'の住宅価格への決定係数は、「%.3f\"%(score_1dm), \"」\")\n",
    "print(\"二次式における'RM'と'LSTAT'の住宅価格への決定係数は、「%.3f\"%(score_2dm), \"」\")\n",
    "print(\"三次式における'RM'と'LSTAT'の住宅価格への決定係数は、「%.3f\"%(score_3dm), \"」\")\n",
    "print(\"四次式における'RM'と'LSTAT'の住宅価格への決定係数は、「%.3f\"%(score_4dm), \"」\")"
   ]
  },
  {
   "cell_type": "code",
   "execution_count": 151,
   "metadata": {
    "collapsed": false,
    "scrolled": false
   },
   "outputs": [
    {
     "ename": "ValueError",
     "evalue": "shapes (1000,1) and (2,1) not aligned: 1 (dim 1) != 2 (dim 0)",
     "output_type": "error",
     "traceback": [
      "\u001b[0;31m---------------------------------------------------------------------------\u001b[0m",
      "\u001b[0;31mValueError\u001b[0m                                Traceback (most recent call last)",
      "\u001b[0;32m<ipython-input-151-62133e179a53>\u001b[0m in \u001b[0;36m<module>\u001b[0;34m()\u001b[0m\n\u001b[1;32m      1\u001b[0m \u001b[0mnm\u001b[0m \u001b[0;34m=\u001b[0m \u001b[0mnp\u001b[0m\u001b[0;34m.\u001b[0m\u001b[0mlinspace\u001b[0m\u001b[0;34m(\u001b[0m\u001b[0mnp\u001b[0m\u001b[0;34m.\u001b[0m\u001b[0mmin\u001b[0m\u001b[0;34m(\u001b[0m\u001b[0mxm\u001b[0m\u001b[0;34m)\u001b[0m\u001b[0;34m,\u001b[0m \u001b[0mnp\u001b[0m\u001b[0;34m.\u001b[0m\u001b[0mmax\u001b[0m\u001b[0;34m(\u001b[0m\u001b[0mxm\u001b[0m\u001b[0;34m)\u001b[0m\u001b[0;34m,\u001b[0m \u001b[0;36m1000\u001b[0m\u001b[0;34m)\u001b[0m\u001b[0;34m\u001b[0m\u001b[0m\n\u001b[0;32m----> 2\u001b[0;31m \u001b[0my_1dm_fit\u001b[0m \u001b[0;34m=\u001b[0m \u001b[0mlin_1dm\u001b[0m\u001b[0;34m.\u001b[0m\u001b[0mpredict\u001b[0m\u001b[0;34m(\u001b[0m\u001b[0mnm\u001b[0m\u001b[0;34m[\u001b[0m\u001b[0;34m:\u001b[0m\u001b[0;34m,\u001b[0m \u001b[0mnp\u001b[0m\u001b[0;34m.\u001b[0m\u001b[0mnewaxis\u001b[0m\u001b[0;34m]\u001b[0m\u001b[0;34m)\u001b[0m\u001b[0;34m\u001b[0m\u001b[0m\n\u001b[0m\u001b[1;32m      3\u001b[0m \u001b[0my_2dm_fit\u001b[0m \u001b[0;34m=\u001b[0m \u001b[0mlin_2dm\u001b[0m\u001b[0;34m.\u001b[0m\u001b[0mpredict\u001b[0m\u001b[0;34m(\u001b[0m\u001b[0mdegree_2m\u001b[0m\u001b[0;34m.\u001b[0m\u001b[0mfit_transform\u001b[0m\u001b[0;34m(\u001b[0m\u001b[0mnm\u001b[0m\u001b[0;34m[\u001b[0m\u001b[0;34m:\u001b[0m\u001b[0;34m,\u001b[0m \u001b[0mnp\u001b[0m\u001b[0;34m.\u001b[0m\u001b[0mnewaxis\u001b[0m\u001b[0;34m]\u001b[0m\u001b[0;34m)\u001b[0m\u001b[0;34m)\u001b[0m\u001b[0;34m\u001b[0m\u001b[0m\n\u001b[1;32m      4\u001b[0m \u001b[0my_3dm_fit\u001b[0m \u001b[0;34m=\u001b[0m \u001b[0mlin_3dm\u001b[0m\u001b[0;34m.\u001b[0m\u001b[0mpredict\u001b[0m\u001b[0;34m(\u001b[0m\u001b[0mdegree_3m\u001b[0m\u001b[0;34m.\u001b[0m\u001b[0mfit_transform\u001b[0m\u001b[0;34m(\u001b[0m\u001b[0mnm\u001b[0m\u001b[0;34m[\u001b[0m\u001b[0;34m:\u001b[0m\u001b[0;34m,\u001b[0m \u001b[0mnp\u001b[0m\u001b[0;34m.\u001b[0m\u001b[0mnewaxis\u001b[0m\u001b[0;34m]\u001b[0m\u001b[0;34m)\u001b[0m\u001b[0;34m)\u001b[0m\u001b[0;34m\u001b[0m\u001b[0m\n\u001b[1;32m      5\u001b[0m \u001b[0my_4dm_fit\u001b[0m \u001b[0;34m=\u001b[0m \u001b[0mlin_4dm\u001b[0m\u001b[0;34m.\u001b[0m\u001b[0mpredict\u001b[0m\u001b[0;34m(\u001b[0m\u001b[0mdegree_4m\u001b[0m\u001b[0;34m.\u001b[0m\u001b[0mfit_transform\u001b[0m\u001b[0;34m(\u001b[0m\u001b[0mnm\u001b[0m\u001b[0;34m[\u001b[0m\u001b[0;34m:\u001b[0m\u001b[0;34m,\u001b[0m \u001b[0mnp\u001b[0m\u001b[0;34m.\u001b[0m\u001b[0mnewaxis\u001b[0m\u001b[0;34m]\u001b[0m\u001b[0;34m)\u001b[0m\u001b[0;34m)\u001b[0m\u001b[0;34m\u001b[0m\u001b[0m\n",
      "\u001b[0;32m/Users/yasu/.pyenv/versions/anaconda3-4.3.0/lib/python3.6/site-packages/sklearn/linear_model/base.py\u001b[0m in \u001b[0;36mpredict\u001b[0;34m(self, X)\u001b[0m\n\u001b[1;32m    266\u001b[0m             \u001b[0mReturns\u001b[0m \u001b[0mpredicted\u001b[0m \u001b[0mvalues\u001b[0m\u001b[0;34m.\u001b[0m\u001b[0;34m\u001b[0m\u001b[0m\n\u001b[1;32m    267\u001b[0m         \"\"\"\n\u001b[0;32m--> 268\u001b[0;31m         \u001b[0;32mreturn\u001b[0m \u001b[0mself\u001b[0m\u001b[0;34m.\u001b[0m\u001b[0m_decision_function\u001b[0m\u001b[0;34m(\u001b[0m\u001b[0mX\u001b[0m\u001b[0;34m)\u001b[0m\u001b[0;34m\u001b[0m\u001b[0m\n\u001b[0m\u001b[1;32m    269\u001b[0m \u001b[0;34m\u001b[0m\u001b[0m\n\u001b[1;32m    270\u001b[0m     \u001b[0m_preprocess_data\u001b[0m \u001b[0;34m=\u001b[0m \u001b[0mstaticmethod\u001b[0m\u001b[0;34m(\u001b[0m\u001b[0m_preprocess_data\u001b[0m\u001b[0;34m)\u001b[0m\u001b[0;34m\u001b[0m\u001b[0m\n",
      "\u001b[0;32m/Users/yasu/.pyenv/versions/anaconda3-4.3.0/lib/python3.6/site-packages/sklearn/linear_model/base.py\u001b[0m in \u001b[0;36m_decision_function\u001b[0;34m(self, X)\u001b[0m\n\u001b[1;32m    251\u001b[0m         \u001b[0mX\u001b[0m \u001b[0;34m=\u001b[0m \u001b[0mcheck_array\u001b[0m\u001b[0;34m(\u001b[0m\u001b[0mX\u001b[0m\u001b[0;34m,\u001b[0m \u001b[0maccept_sparse\u001b[0m\u001b[0;34m=\u001b[0m\u001b[0;34m[\u001b[0m\u001b[0;34m'csr'\u001b[0m\u001b[0;34m,\u001b[0m \u001b[0;34m'csc'\u001b[0m\u001b[0;34m,\u001b[0m \u001b[0;34m'coo'\u001b[0m\u001b[0;34m]\u001b[0m\u001b[0;34m)\u001b[0m\u001b[0;34m\u001b[0m\u001b[0m\n\u001b[1;32m    252\u001b[0m         return safe_sparse_dot(X, self.coef_.T,\n\u001b[0;32m--> 253\u001b[0;31m                                dense_output=True) + self.intercept_\n\u001b[0m\u001b[1;32m    254\u001b[0m \u001b[0;34m\u001b[0m\u001b[0m\n\u001b[1;32m    255\u001b[0m     \u001b[0;32mdef\u001b[0m \u001b[0mpredict\u001b[0m\u001b[0;34m(\u001b[0m\u001b[0mself\u001b[0m\u001b[0;34m,\u001b[0m \u001b[0mX\u001b[0m\u001b[0;34m)\u001b[0m\u001b[0;34m:\u001b[0m\u001b[0;34m\u001b[0m\u001b[0m\n",
      "\u001b[0;32m/Users/yasu/.pyenv/versions/anaconda3-4.3.0/lib/python3.6/site-packages/sklearn/utils/extmath.py\u001b[0m in \u001b[0;36msafe_sparse_dot\u001b[0;34m(a, b, dense_output)\u001b[0m\n\u001b[1;32m    187\u001b[0m         \u001b[0;32mreturn\u001b[0m \u001b[0mret\u001b[0m\u001b[0;34m\u001b[0m\u001b[0m\n\u001b[1;32m    188\u001b[0m     \u001b[0;32melse\u001b[0m\u001b[0;34m:\u001b[0m\u001b[0;34m\u001b[0m\u001b[0m\n\u001b[0;32m--> 189\u001b[0;31m         \u001b[0;32mreturn\u001b[0m \u001b[0mfast_dot\u001b[0m\u001b[0;34m(\u001b[0m\u001b[0ma\u001b[0m\u001b[0;34m,\u001b[0m \u001b[0mb\u001b[0m\u001b[0;34m)\u001b[0m\u001b[0;34m\u001b[0m\u001b[0m\n\u001b[0m\u001b[1;32m    190\u001b[0m \u001b[0;34m\u001b[0m\u001b[0m\n\u001b[1;32m    191\u001b[0m \u001b[0;34m\u001b[0m\u001b[0m\n",
      "\u001b[0;31mValueError\u001b[0m: shapes (1000,1) and (2,1) not aligned: 1 (dim 1) != 2 (dim 0)"
     ]
    }
   ],
   "source": [
    "nm = np.linspace(np.min(xm), np.max(xm), 1000)\n",
    "y_1dm_fit = lin_1dm.predict(nm[:, np.newaxis])\n",
    "y_2dm_fit = lin_2dm.predict(degree_2m.fit_transform(nm[:, np.newaxis]))\n",
    "y_3dm_fit = lin_3dm.predict(degree_3m.fit_transform(nm[:, np.newaxis]))\n",
    "y_4dm_fit = lin_4dm.predict(degree_4m.fit_transform(nm[:, np.newaxis]))\n",
    "\n",
    "plt.title(\"Boston House Price\")\n",
    "plt.scatter(xm, ym, label = \"data\")\n",
    "plt.plot(nm, y_1dm_fit, \"k\", label = \"1d_lin\")\n",
    "plt.plot(nm, y_2dm_fit, \"b\", label = \"2d_lin\")\n",
    "plt.plot(nm, y_3dm_fit, \"g\", label = \"3d_lin\")\n",
    "plt.plot(nm, y_4dm_fit, \"m\", label = \"4d_lin\")\n",
    "plt.ylim(10, 45)\n",
    "plt.xlabel(\"LSTAT\")\n",
    "plt.ylabel(\"price\")\n",
    "plt.legend()\n",
    "plt.plot"
   ]
  },
  {
   "cell_type": "markdown",
   "metadata": {},
   "source": [
    "### 14. 重回帰について記述せよ"
   ]
  },
  {
   "cell_type": "markdown",
   "metadata": {
    "collapsed": true
   },
   "source": [
    "#### 答え:\n",
    "説明変数を増やすことのメリットとして、決定係数の値を単回帰のときよりも高くすることができ、その分表現力の高いモデルを構築することができる。  \n",
    "説明変数を増やすことのデメリットとして、学習に使用された特徴量にのみ良く反応してしまう汎用的でない過学習したモデルとなってしまうこともある。"
   ]
  },
  {
   "cell_type": "code",
   "execution_count": null,
   "metadata": {
    "collapsed": true
   },
   "outputs": [],
   "source": []
  }
 ],
 "metadata": {
  "kernelspec": {
   "display_name": "Python 3",
   "language": "python",
   "name": "python3"
  },
  "language_info": {
   "codemirror_mode": {
    "name": "ipython",
    "version": 3
   },
   "file_extension": ".py",
   "mimetype": "text/x-python",
   "name": "python",
   "nbconvert_exporter": "python",
   "pygments_lexer": "ipython3",
   "version": "3.6.0"
  }
 },
 "nbformat": 4,
 "nbformat_minor": 2
}
