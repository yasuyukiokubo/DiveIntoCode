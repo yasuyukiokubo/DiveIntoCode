{
 "cells": [
  {
   "cell_type": "markdown",
   "metadata": {},
   "source": [
    "## 課題 タイタニック生存予測 ランダムフォレスト\n",
    "https://diver.diveintocode.jp/textbooks/530"
   ]
  },
  {
   "cell_type": "markdown",
   "metadata": {},
   "source": [
    "#### 全体の流れ\n",
    "問題提起  \n",
    "データ取得  \n",
    "データ可視化  \n",
    "前処理  \n",
    "モデル選択  \n",
    "データセット分割  \n",
    "学習  \n",
    "評価  "
   ]
  },
  {
   "cell_type": "markdown",
   "metadata": {},
   "source": [
    "#### 必要なライブラリをimportする"
   ]
  },
  {
   "cell_type": "code",
   "execution_count": 1,
   "metadata": {
    "collapsed": false
   },
   "outputs": [
    {
     "name": "stderr",
     "output_type": "stream",
     "text": [
      "/Users/yasu/.pyenv/versions/anaconda3-4.3.0/lib/python3.6/site-packages/sklearn/cross_validation.py:44: DeprecationWarning: This module was deprecated in version 0.18 in favor of the model_selection module into which all the refactored classes and functions are moved. Also note that the interface of the new CV iterators are different from that of this module. This module will be removed in 0.20.\n",
      "  \"This module will be removed in 0.20.\", DeprecationWarning)\n"
     ]
    }
   ],
   "source": [
    "import numpy as np\n",
    "import pandas as pd\n",
    "import matplotlib.pyplot as plt\n",
    "import seaborn as sns\n",
    "from sklearn import cross_validation\n",
    "from sklearn.linear_model import LinearRegression\n",
    "from sklearn.preprocessing import PolynomialFeatures\n",
    "from sklearn.metrics import mean_squared_error\n",
    "from sklearn.model_selection import train_test_split\n",
    "from scipy.stats import zscore\n",
    "\n",
    "%matplotlib inline"
   ]
  },
  {
   "cell_type": "markdown",
   "metadata": {},
   "source": [
    "### 1. データ取得 / データ読み込み / データ確認 / sample"
   ]
  },
  {
   "cell_type": "code",
   "execution_count": 2,
   "metadata": {
    "collapsed": false
   },
   "outputs": [
    {
     "data": {
      "text/html": [
       "<div>\n",
       "<table border=\"1\" class=\"dataframe\">\n",
       "  <thead>\n",
       "    <tr style=\"text-align: right;\">\n",
       "      <th></th>\n",
       "      <th>PassengerId</th>\n",
       "      <th>Survived</th>\n",
       "      <th>Pclass</th>\n",
       "      <th>Name</th>\n",
       "      <th>Sex</th>\n",
       "      <th>Age</th>\n",
       "      <th>SibSp</th>\n",
       "      <th>Parch</th>\n",
       "      <th>Ticket</th>\n",
       "      <th>Fare</th>\n",
       "      <th>Cabin</th>\n",
       "      <th>Embarked</th>\n",
       "    </tr>\n",
       "  </thead>\n",
       "  <tbody>\n",
       "    <tr>\n",
       "      <th>142</th>\n",
       "      <td>143</td>\n",
       "      <td>1</td>\n",
       "      <td>3</td>\n",
       "      <td>Hakkarainen, Mrs. Pekka Pietari (Elin Matilda ...</td>\n",
       "      <td>female</td>\n",
       "      <td>24.0</td>\n",
       "      <td>1</td>\n",
       "      <td>0</td>\n",
       "      <td>STON/O2. 3101279</td>\n",
       "      <td>15.8500</td>\n",
       "      <td>NaN</td>\n",
       "      <td>S</td>\n",
       "    </tr>\n",
       "    <tr>\n",
       "      <th>868</th>\n",
       "      <td>869</td>\n",
       "      <td>0</td>\n",
       "      <td>3</td>\n",
       "      <td>van Melkebeke, Mr. Philemon</td>\n",
       "      <td>male</td>\n",
       "      <td>NaN</td>\n",
       "      <td>0</td>\n",
       "      <td>0</td>\n",
       "      <td>345777</td>\n",
       "      <td>9.5000</td>\n",
       "      <td>NaN</td>\n",
       "      <td>S</td>\n",
       "    </tr>\n",
       "    <tr>\n",
       "      <th>29</th>\n",
       "      <td>30</td>\n",
       "      <td>0</td>\n",
       "      <td>3</td>\n",
       "      <td>Todoroff, Mr. Lalio</td>\n",
       "      <td>male</td>\n",
       "      <td>NaN</td>\n",
       "      <td>0</td>\n",
       "      <td>0</td>\n",
       "      <td>349216</td>\n",
       "      <td>7.8958</td>\n",
       "      <td>NaN</td>\n",
       "      <td>S</td>\n",
       "    </tr>\n",
       "    <tr>\n",
       "      <th>380</th>\n",
       "      <td>381</td>\n",
       "      <td>1</td>\n",
       "      <td>1</td>\n",
       "      <td>Bidois, Miss. Rosalie</td>\n",
       "      <td>female</td>\n",
       "      <td>42.0</td>\n",
       "      <td>0</td>\n",
       "      <td>0</td>\n",
       "      <td>PC 17757</td>\n",
       "      <td>227.5250</td>\n",
       "      <td>NaN</td>\n",
       "      <td>C</td>\n",
       "    </tr>\n",
       "    <tr>\n",
       "      <th>180</th>\n",
       "      <td>181</td>\n",
       "      <td>0</td>\n",
       "      <td>3</td>\n",
       "      <td>Sage, Miss. Constance Gladys</td>\n",
       "      <td>female</td>\n",
       "      <td>NaN</td>\n",
       "      <td>8</td>\n",
       "      <td>2</td>\n",
       "      <td>CA. 2343</td>\n",
       "      <td>69.5500</td>\n",
       "      <td>NaN</td>\n",
       "      <td>S</td>\n",
       "    </tr>\n",
       "  </tbody>\n",
       "</table>\n",
       "</div>"
      ],
      "text/plain": [
       "     PassengerId  Survived  Pclass  \\\n",
       "142          143         1       3   \n",
       "868          869         0       3   \n",
       "29            30         0       3   \n",
       "380          381         1       1   \n",
       "180          181         0       3   \n",
       "\n",
       "                                                  Name     Sex   Age  SibSp  \\\n",
       "142  Hakkarainen, Mrs. Pekka Pietari (Elin Matilda ...  female  24.0      1   \n",
       "868                        van Melkebeke, Mr. Philemon    male   NaN      0   \n",
       "29                                 Todoroff, Mr. Lalio    male   NaN      0   \n",
       "380                              Bidois, Miss. Rosalie  female  42.0      0   \n",
       "180                       Sage, Miss. Constance Gladys  female   NaN      8   \n",
       "\n",
       "     Parch            Ticket      Fare Cabin Embarked  \n",
       "142      0  STON/O2. 3101279   15.8500   NaN        S  \n",
       "868      0            345777    9.5000   NaN        S  \n",
       "29       0            349216    7.8958   NaN        S  \n",
       "380      0          PC 17757  227.5250   NaN        C  \n",
       "180      2          CA. 2343   69.5500   NaN        S  "
      ]
     },
     "execution_count": 2,
     "metadata": {},
     "output_type": "execute_result"
    }
   ],
   "source": [
    "data_train = pd.read_csv('train.csv')\n",
    "data_test = pd.read_csv('test.csv')\n",
    "data_train.sample(5)"
   ]
  },
  {
   "cell_type": "markdown",
   "metadata": {},
   "source": [
    "### 2. 前処理について記述せよ\n",
    "##### ・前処理とは何か\n",
    "###### 答え:  \n",
    "コンピュータが機械学習において、データを限りなく正しく扱えるように整備すること。\n",
    "##### ・なぜ前処理を行う必要があるのか\n",
    "###### 答え:  \n",
    "機械学習において、扱えないデータであったり、全体の精度を歪ませるデータであったりするため、それらを補正して機械学習に最適な特徴量にさせる必要があるため。\n",
    "##### ・前処理は具体的に何を行うか(3つ以上記述せよ)\n",
    "###### 答え:  \n",
    "1. 欠損値の除去あるいは穴埋め  \n",
    "2. 外れ値の除去  \n",
    "3. カテゴリデータ処理  \n",
    "\n",
    "##### ・前述した具体的な前処理について、その前処理を行うと何を得ることができるか(記述したそれぞれの前処理例について記述せよ)  \n",
    "###### 答え:\n",
    "1. 欠損値の除去あるいは穴埋め  \n",
    "扱えるデータになる、あるいは、データ全体の精度が高まる。\n",
    "2. 外れ値の除去  \n",
    "扱えるデータになる、あるいは、データ全体の精度が高まる。また、過学習の防止にも繋がる。\n",
    "3. カテゴリデータ処理  \n",
    "データ分類・判定処理を最適化させることができる。"
   ]
  },
  {
   "cell_type": "markdown",
   "metadata": {},
   "source": [
    "### 3. 2/前処理について記述せよ\n",
    "##### ・前処理について記述せよの調査により、データを確認する際にどのような点を見るとよいか、3つ以上記述せよ。\n",
    "###### 答え:\n",
    "1. 欠損値が全体の精度に与える影響度合い。(例えば、欠損率が高いため、特徴量として扱えないなど。)\n",
    "2. 外れ値が本当に外れ値として処理して良いのか。(例えば、正規分布で95%範囲に入らない場合は外れ値にするなど。)\n",
    "2. カテゴリデータがどの様な特徴量に分類できるか。(例えば、順序付けできるのか(ordinal)、あるいは順序付けできないのか(nominal)など。)"
   ]
  },
  {
   "cell_type": "markdown",
   "metadata": {},
   "source": [
    "### 4. 前処理を行う"
   ]
  },
  {
   "cell_type": "code",
   "execution_count": 3,
   "metadata": {
    "collapsed": false
   },
   "outputs": [
    {
     "data": {
      "text/html": [
       "<div>\n",
       "<table border=\"1\" class=\"dataframe\">\n",
       "  <thead>\n",
       "    <tr style=\"text-align: right;\">\n",
       "      <th></th>\n",
       "      <th>PassengerId</th>\n",
       "      <th>Survived</th>\n",
       "      <th>Pclass</th>\n",
       "      <th>Sex</th>\n",
       "      <th>Age</th>\n",
       "      <th>SibSp</th>\n",
       "      <th>Parch</th>\n",
       "      <th>Fare</th>\n",
       "      <th>Cabin</th>\n",
       "      <th>Embarked</th>\n",
       "      <th>Lname</th>\n",
       "      <th>NamePrefix</th>\n",
       "    </tr>\n",
       "  </thead>\n",
       "  <tbody>\n",
       "    <tr>\n",
       "      <th>0</th>\n",
       "      <td>1</td>\n",
       "      <td>0</td>\n",
       "      <td>3</td>\n",
       "      <td>male</td>\n",
       "      <td>Student</td>\n",
       "      <td>1</td>\n",
       "      <td>0</td>\n",
       "      <td>1_quartile</td>\n",
       "      <td>N</td>\n",
       "      <td>S</td>\n",
       "      <td>Braund,</td>\n",
       "      <td>Braund,</td>\n",
       "    </tr>\n",
       "    <tr>\n",
       "      <th>1</th>\n",
       "      <td>2</td>\n",
       "      <td>1</td>\n",
       "      <td>1</td>\n",
       "      <td>female</td>\n",
       "      <td>Adult</td>\n",
       "      <td>1</td>\n",
       "      <td>0</td>\n",
       "      <td>4_quartile</td>\n",
       "      <td>C</td>\n",
       "      <td>C</td>\n",
       "      <td>Cumings,</td>\n",
       "      <td>Cumings,</td>\n",
       "    </tr>\n",
       "    <tr>\n",
       "      <th>2</th>\n",
       "      <td>3</td>\n",
       "      <td>1</td>\n",
       "      <td>3</td>\n",
       "      <td>female</td>\n",
       "      <td>Young Adult</td>\n",
       "      <td>0</td>\n",
       "      <td>0</td>\n",
       "      <td>1_quartile</td>\n",
       "      <td>N</td>\n",
       "      <td>S</td>\n",
       "      <td>Heikkinen,</td>\n",
       "      <td>Heikkinen,</td>\n",
       "    </tr>\n",
       "    <tr>\n",
       "      <th>3</th>\n",
       "      <td>4</td>\n",
       "      <td>1</td>\n",
       "      <td>1</td>\n",
       "      <td>female</td>\n",
       "      <td>Young Adult</td>\n",
       "      <td>1</td>\n",
       "      <td>0</td>\n",
       "      <td>4_quartile</td>\n",
       "      <td>C</td>\n",
       "      <td>S</td>\n",
       "      <td>Futrelle,</td>\n",
       "      <td>Futrelle,</td>\n",
       "    </tr>\n",
       "    <tr>\n",
       "      <th>4</th>\n",
       "      <td>5</td>\n",
       "      <td>0</td>\n",
       "      <td>3</td>\n",
       "      <td>male</td>\n",
       "      <td>Young Adult</td>\n",
       "      <td>0</td>\n",
       "      <td>0</td>\n",
       "      <td>2_quartile</td>\n",
       "      <td>N</td>\n",
       "      <td>S</td>\n",
       "      <td>Allen,</td>\n",
       "      <td>Allen,</td>\n",
       "    </tr>\n",
       "  </tbody>\n",
       "</table>\n",
       "</div>"
      ],
      "text/plain": [
       "   PassengerId  Survived  Pclass     Sex          Age  SibSp  Parch  \\\n",
       "0            1         0       3    male      Student      1      0   \n",
       "1            2         1       1  female        Adult      1      0   \n",
       "2            3         1       3  female  Young Adult      0      0   \n",
       "3            4         1       1  female  Young Adult      1      0   \n",
       "4            5         0       3    male  Young Adult      0      0   \n",
       "\n",
       "         Fare Cabin Embarked       Lname  NamePrefix  \n",
       "0  1_quartile     N        S     Braund,     Braund,  \n",
       "1  4_quartile     C        C    Cumings,    Cumings,  \n",
       "2  1_quartile     N        S  Heikkinen,  Heikkinen,  \n",
       "3  4_quartile     C        S   Futrelle,   Futrelle,  \n",
       "4  2_quartile     N        S      Allen,      Allen,  "
      ]
     },
     "execution_count": 3,
     "metadata": {},
     "output_type": "execute_result"
    }
   ],
   "source": [
    "# 前処理1\n",
    "def simplify_ages(df):\n",
    "    df.Age = df.Age.fillna(-0.5)\n",
    "    bins = (-1, 0, 5, 12, 18, 25, 35, 60, 120)\n",
    "    group_names = ['Unknown', 'Baby', 'Child', 'Teenager', 'Student', 'Young Adult', 'Adult', 'Senior']\n",
    "    categories = pd.cut(df.Age, bins, labels = group_names)\n",
    "    df.Age = categories\n",
    "    return df\n",
    "\n",
    "def simplify_cabins(df):\n",
    "    df.Cabin = df.Cabin.fillna('N')\n",
    "    df.Cabin = df.Cabin.apply(lambda x: x[0])\n",
    "    return df\n",
    "\n",
    "def simplify_fares(df):\n",
    "    df.Fare = df.Fare.fillna(-0.5)\n",
    "    bins = (-1, 0, 8, 15, 31, 1000)\n",
    "    group_names = ['Unknown', '1_quartile', '2_quartile', '3_quartile', '4_quartile']\n",
    "    categories = pd.cut(df.Fare, bins, labels = group_names)\n",
    "    df.Fare = categories\n",
    "    return df\n",
    "\n",
    "def format_name(df):\n",
    "    df['Lname'] = df.Name.apply(lambda x: x.split(' ')[0])\n",
    "    df['NamePrefix'] = df.Name.apply(lambda x: x.split(' ')[0])\n",
    "    return df\n",
    "\n",
    "def format_embarked(df):\n",
    "    df.Embarked = df.Embarked.fillna('N')\n",
    "    return df\n",
    "\n",
    "def drop_features(df):\n",
    "    return df.drop(['Ticket', 'Name'], axis = 1)\n",
    "\n",
    "def transform_features(df):\n",
    "    df = simplify_ages(df)\n",
    "    df = simplify_cabins(df)\n",
    "    df = simplify_fares(df)\n",
    "    df = format_name(df)\n",
    "    df = format_embarked(df)\n",
    "    df = drop_features(df)\n",
    "    return df\n",
    "\n",
    "data_train = transform_features(data_train)\n",
    "data_test = transform_features(data_test)\n",
    "data_train.head()"
   ]
  },
  {
   "cell_type": "code",
   "execution_count": 4,
   "metadata": {
    "collapsed": false
   },
   "outputs": [
    {
     "data": {
      "text/html": [
       "<div>\n",
       "<table border=\"1\" class=\"dataframe\">\n",
       "  <thead>\n",
       "    <tr style=\"text-align: right;\">\n",
       "      <th></th>\n",
       "      <th>PassengerId</th>\n",
       "      <th>Survived</th>\n",
       "      <th>Pclass</th>\n",
       "      <th>Sex</th>\n",
       "      <th>Age</th>\n",
       "      <th>SibSp</th>\n",
       "      <th>Parch</th>\n",
       "      <th>Fare</th>\n",
       "      <th>Cabin</th>\n",
       "      <th>Embarked</th>\n",
       "      <th>Lname</th>\n",
       "      <th>NamePrefix</th>\n",
       "    </tr>\n",
       "  </thead>\n",
       "  <tbody>\n",
       "    <tr>\n",
       "      <th>0</th>\n",
       "      <td>1</td>\n",
       "      <td>0</td>\n",
       "      <td>3</td>\n",
       "      <td>1</td>\n",
       "      <td>4</td>\n",
       "      <td>1</td>\n",
       "      <td>0</td>\n",
       "      <td>0</td>\n",
       "      <td>7</td>\n",
       "      <td>3</td>\n",
       "      <td>100</td>\n",
       "      <td>100</td>\n",
       "    </tr>\n",
       "    <tr>\n",
       "      <th>1</th>\n",
       "      <td>2</td>\n",
       "      <td>1</td>\n",
       "      <td>1</td>\n",
       "      <td>0</td>\n",
       "      <td>0</td>\n",
       "      <td>1</td>\n",
       "      <td>0</td>\n",
       "      <td>3</td>\n",
       "      <td>2</td>\n",
       "      <td>0</td>\n",
       "      <td>182</td>\n",
       "      <td>182</td>\n",
       "    </tr>\n",
       "    <tr>\n",
       "      <th>2</th>\n",
       "      <td>3</td>\n",
       "      <td>1</td>\n",
       "      <td>3</td>\n",
       "      <td>0</td>\n",
       "      <td>7</td>\n",
       "      <td>0</td>\n",
       "      <td>0</td>\n",
       "      <td>0</td>\n",
       "      <td>7</td>\n",
       "      <td>3</td>\n",
       "      <td>329</td>\n",
       "      <td>329</td>\n",
       "    </tr>\n",
       "    <tr>\n",
       "      <th>3</th>\n",
       "      <td>4</td>\n",
       "      <td>1</td>\n",
       "      <td>1</td>\n",
       "      <td>0</td>\n",
       "      <td>7</td>\n",
       "      <td>1</td>\n",
       "      <td>0</td>\n",
       "      <td>3</td>\n",
       "      <td>2</td>\n",
       "      <td>3</td>\n",
       "      <td>267</td>\n",
       "      <td>267</td>\n",
       "    </tr>\n",
       "    <tr>\n",
       "      <th>4</th>\n",
       "      <td>5</td>\n",
       "      <td>0</td>\n",
       "      <td>3</td>\n",
       "      <td>1</td>\n",
       "      <td>7</td>\n",
       "      <td>0</td>\n",
       "      <td>0</td>\n",
       "      <td>1</td>\n",
       "      <td>7</td>\n",
       "      <td>3</td>\n",
       "      <td>15</td>\n",
       "      <td>15</td>\n",
       "    </tr>\n",
       "  </tbody>\n",
       "</table>\n",
       "</div>"
      ],
      "text/plain": [
       "   PassengerId  Survived  Pclass  Sex  Age  SibSp  Parch  Fare  Cabin  \\\n",
       "0            1         0       3    1    4      1      0     0      7   \n",
       "1            2         1       1    0    0      1      0     3      2   \n",
       "2            3         1       3    0    7      0      0     0      7   \n",
       "3            4         1       1    0    7      1      0     3      2   \n",
       "4            5         0       3    1    7      0      0     1      7   \n",
       "\n",
       "   Embarked  Lname  NamePrefix  \n",
       "0         3    100         100  \n",
       "1         0    182         182  \n",
       "2         3    329         329  \n",
       "3         3    267         267  \n",
       "4         3     15          15  "
      ]
     },
     "execution_count": 4,
     "metadata": {},
     "output_type": "execute_result"
    }
   ],
   "source": [
    "# 前処理2\n",
    "from sklearn import preprocessing\n",
    "def encode_features(df_train, df_test):\n",
    "    features = ['Fare', 'Cabin', 'Age', 'Sex', 'Lname', 'NamePrefix', 'Embarked']\n",
    "    df_combined = pd.concat([df_train[features], df_test[features]])\n",
    "    \n",
    "    for feature in features:\n",
    "        le = preprocessing.LabelEncoder()\n",
    "        le = le.fit(df_combined[feature])\n",
    "        df_train[feature] = le.transform(df_train[feature])\n",
    "        df_test[feature] = le.transform(df_test[feature])\n",
    "    return df_train, df_test\n",
    "\n",
    "data_train, data_test = encode_features(data_train, data_test)\n",
    "data_train.head()"
   ]
  },
  {
   "cell_type": "markdown",
   "metadata": {
    "collapsed": true
   },
   "source": [
    "### 5. 前処理の内容について記述せよ\n",
    "##### ・simplify_ages\n",
    "###### ・以上のメソッドがそれぞれ何を行っているか記述せよ\n",
    "###### 答え:  \n",
    "年齢を一定の範囲で階級に分けている。  \n",
    "また、欠損値を別の値に置き換えている。\n",
    "###### ・それぞれなぜそのようなことを行っているか記述せよ(それによって得られるメリットまで考察すること)\n",
    "###### 答え:  \n",
    "階級にすることにより、クラス分類問題として扱うことができ、年代ごとの生存率を割り出すことが可能になり、年代と生存率の関係が明らかになるため。  \n",
    "欠損値は、そのままでは特徴量として扱えないため、別の値に置き換える必要がある。  \n",
    "しかし、欠損値は不明な値でもあるため、年齢ではありえないマイナス値を入れることにより、統計的な誤差を与えないようにする。  \n",
    "\n",
    "\n",
    "##### ・simplify_cabins\n",
    "###### ・以上のメソッドがそれぞれ何を行っているか記述せよ\n",
    "###### 答え:  \n",
    "客室を客室のタイプごとの階級に分けている。  \n",
    "また、欠損値を別の値に置き換えている。  \n",
    "###### ・それぞれなぜそのようなことを行っているか記述せよ(それによって得られるメリットまで考察すること)\n",
    "###### 答え:  \n",
    "階級にすることにより、クラス分類問題として扱うことができ、客室のタイプと生存率を割り出すことが可能になり、客室タイプと生存率の関係が明らかになるため。  \n",
    "また、一人の乗客が複数の客室を確保しているため、客室の最初の一文字による客室タイプにすることにより、重複がなくなり統計的な精度が高まる。  \n",
    "欠損値は、そのままでは特徴量として扱えないため、別の値に置き換える必要がある。  \n",
    "しかし、欠損値は不明な値でもあるため、客室として存在しない値を入れることにより、統計的な誤差を与えないようにする。  \n",
    "\n",
    "##### ・simplify_fares\n",
    "###### ・以上のメソッドがそれぞれ何を行っているか記述せよ\n",
    "##\n",
    "乗船賃金を金額の多寡により階級に分けている。  \n",
    "また、欠損値を別の値に置き換えている。\n",
    "###### ・それぞれなぜそのようなことを行っているか記述せよ(それによって得られるメリットまで考察すること)\n",
    "###### 答え:  \n",
    "階級にすることにより、クラス分類問題として扱うことができ、乗船賃金の範囲と生存率を割り出すことが可能になり、賃金範囲と生存率の関係が明らかになるため。  \n",
    "欠損値は、そのままでは特徴量として扱えないため、別の値に置き換える必要がある。  \n",
    "しかし、欠損値は不明な値でもあるため、乗船賃金として存在しないマイナス値を入れることにより、統計的な誤差を与えないようにする。\n",
    "##### ・format_name\n",
    "###### ・以上のメソッドがそれぞれ何を行っているか記述せよ\n",
    "###### 答え:  \n",
    "扱う文字数を少なくしている。  \n",
    "また、未婚か既婚かを分かりやすくしている。  \n",
    "###### ・それぞれなぜそのようなことを行っているか記述せよ(それによって得られるメリットまで考察すること)\n",
    "###### 答え:  \n",
    "人により名前の文字数が異なるため、扱いやすい最低限の名前だけにし、扱う量を減らすことができ、処理の高速化に繋がるため。  \n",
    "また、敬称を使うことにより、未婚か既婚かが分かり、クラス分類問題としての特徴量あるいは統計量として扱えることができるようになるため。\n",
    "##### ・format_embarked\n",
    "###### ・以上のメソッドがそれぞれ何を行っているか記述せよ\n",
    "###### 答え:  \n",
    "欠損値を別の値に置き換えている。    \n",
    "###### ・それぞれなぜそのようなことを行っているか記述せよ(それによって得られるメリットまで考察すること)\n",
    "###### 答え:  \n",
    "欠損値は、そのままでは特徴量として扱えないため、別の値に置き換える必要がある。  \n",
    "しかし、欠損値は不明な値でもあるため、乗船場所として存在しない値を入れることにより、統計的な誤差を与えないようにする。  \n",
    "##### ・drop_features\n",
    "###### ・以上のメソッドがそれぞれ何を行っているか記述せよ\n",
    "###### 答え:  \n",
    "特徴量として扱わないデータとしている。\n",
    "###### ・それぞれなぜそのようなことを行っているか記述せよ(それによって得られるメリットまで考察すること)\n",
    "###### 答え:  \n",
    "「Name」は「Lname」と「NamePrefix」に置き換えているため、特徴量として不要なデータであるため、扱う量を減らすことにより、処理の高速化に繋がるため。  \n",
    "また、「Ticket」は、この値から階級化がしづらく、特徴量あるいは統計量として扱うことが難しいため、扱う量を減らすことにより、処理の高速化に繋がるため。  \n",
    "##### ・encode_features\n",
    "###### ・以上のメソッドがそれぞれ何を行っているか記述せよ\n",
    "###### 答え:  \n",
    "文字の値を数値に置き換えている。\n",
    "###### ・それぞれなぜそのようなことを行っているか記述せよ(それによって得られるメリットまで考察すること)\n",
    "###### 答え:  \n",
    "数値化することにより、アルゴリズムとして扱い易くなるため。"
   ]
  },
  {
   "cell_type": "markdown",
   "metadata": {
    "collapsed": true
   },
   "source": [
    "### 6. モデル選択について記述せよ\n",
    "###### ・今回は、生存予測（分類）を行いますが、この分類について使用できそうな手法を4つ以上しらべて記述せよ。  \n",
    "###### 答え:  \n",
    "(補足: クラス分類の手法について回答しました。)\n",
    "1. k-最近傍法  \n",
    "2. (クラス分類のための)線形モデル  \n",
    "3. ナイーブベイズクラス分類器  \n",
    "4. 決定木  \n",
    "5. ランダムフォレスト(決定木のアンサンブル法)  \n",
    "6. 勾配ブースティング回帰木(決定木のアンサンブル法)  \n",
    "7. サポートベクタマシン  \n",
    "8. ニューラルネットワーク\n",
    "\n",
    "###### ・その手法の概要をそれぞれ記述せよ  \n",
    "###### 答え:  \n",
    "1. k-最近傍法  \n",
    "   入力値を訓練データの中で最も近い値のクラスに分類する手法。\n",
    "   結果は、訓練データの値を出力する。\n",
    "2. (クラス分類のための)線形モデル  \n",
    "   入力される特徴量の線形関数を用いて、値が「0」の地点を決定境界とし、データがそれより大きければ「1」に、データがそれより小さければ「-1」に分類する。  \n",
    "3. ナイーブベイズクラス分類器  \n",
    "   統計量を個々の特徴量に適用して、分類する。  \n",
    "4. 決定木  \n",
    "   与えられる質問に対し、木構造を構築し、Yes/Noの形で分類する。  \n",
    "5. ランダムフォレスト(決定木のアンサンブル法)\n",
    "   決定木の短所である過剰適合を回避するために、複数の異なるランダムな決定木を用いて分類する。  \n",
    "6. 勾配ブースティング回帰木(決定木のアンサンブル法)\n",
    "   ランダムフォレストとは対照的に用いる決定木は修正を加えながら順番に用いて分類する。  \n",
    "   ランダムフォレストと比べ、モデルが簡単な決定木(弱学習機)を使う\n",
    "7. サポートベクタマシン  \n",
    "   一部のデータの値(ポイント)をサポートベクタとし、そのサポートベクタと個々のデータとの距離を測定し、その距離に重み付けをした上で、分類する。  \n",
    "8. ニューラルネットワーク  \n",
    "   ニューロン(ブロック)ごとに、与えられた入力値やバイアスから重み係数を自動で算出し、その結果を次のニューロンに引き継ぎ、最終的なラベルを出力する。  \n",
    "   算出したラベルと正のラベルの誤差を計算し、その誤差を最小化させるために、最終アウトプットに近いニューロンから逆順に調整していく。  \n",
    "\n",
    "\n",
    "###### ・その手法の長所/短所をそれぞれ3つずつ、記述したすべての手法において記述せよ\n",
    "###### 答え:  \n",
    "1. k-最近傍法  \n",
    "   長所①: アルゴリズムが単純で理解し易い  \n",
    "   長所②: 調整をあまりせずとも、与えた特徴量でそれなりに高い性能出すことが可能  \n",
    "   長所③: 特徴量が少なければ、モデルの構築が比較的に高速に行うことが可能  \n",
    "   短所①: 特徴量が多くなると、計算量も比例して増加し、モデルの構築が非常に遅くなる  \n",
    "   短所②: 訓練のステップが存在しないため、訓練用のデータを保持しておく必要がある  \n",
    "   短所③: 相関関係があまりない特徴量同士の場合、性能が悪くなる  \n",
    "2. (クラス分類のための)線形モデル  \n",
    "   長所①: 訓練と予測が高速である  \n",
    "   長所②: 予測に使う式が線形回帰式であるため、他の分類手法に比べ理解し易い  \n",
    "   長所③: 特徴量が多い場合、汎化性能が高くなる  \n",
    "   短所①: 特徴量を多くする場合、訓練用データに過剰に適合し、テストデータとの結果の差異が大きくなることがある    \n",
    "   短所②: 基本的に２クラス分類であり、多クラス分類には適用できない  \n",
    "   短所③: 特徴量が少ない場合、汎化性能が低くなる  \n",
    "3. ナイーブベイズクラス分類器  \n",
    "   長所①: 訓練と予測が高速だが、訓練は線形モデルよりも高速である  \n",
    "   長所②: 線形モデルと同様に、他の手法に比べ理解し易い  \n",
    "   長所③: 相関関係があまりない特徴量同士でも、性能が悪くならない  \n",
    "   短所①: 汎化性能が線形モデルよりも劣る  \n",
    "   短所②: 特徴量が多いと、計算が複雑になり易い(統計学としてベイズの特性)  \n",
    "   短所③: 特徴量同士の関連性を無視してしまう  \n",
    "   短所④: 振り分ける際の確率を事前に決めておく必要がある(例、A=75%/B=25%)  \n",
    "4. 決定木  \n",
    "   長所①: 木構造のため、予測過程を図式化でき、見た目にわかり易く、トレースし易い  \n",
    "   長所②: 特徴量の正規化や標準化が必要ない  \n",
    "   長所③: 訓練データに対しては、完全な予測をすることが可能  \n",
    "   短所①: 訓練データに過剰に適合し、テストデータでの結果との結果の差異が大きくなることがある  \n",
    "   短所②: 決定木の深さに制約をかけないと、階層が深くなり、複雑になってしまう  \n",
    "   短所③: 未知のデータに対して、新しい出力を生成できない  \n",
    "5. ランダムフォレスト(決定木のアンサンブル法)  \n",
    "   長所①: 決定木と同様に、精度の高い予測が可能  \n",
    "   長所②: 決定木の短所である、過剰適合を防ぐことができる  \n",
    "   長所③: それぞれの特徴量の重要度が信頼できる  \n",
    "   長所④: パラメータのチューニングをせずとも、高い性能が出る  \n",
    "   短所①: 精度の高く、かつ、お互いが異なる決定木を多く作成する必要がある  \n",
    "   短所②: 複数の決定木の予測プロセスをトレースすることは難しい  \n",
    "   短所③: 特徴量の数に応じ、決定木の構築に時間がかかる  \n",
    "   短所④: 決定木を作成する数を固定しておかないと、構築されるモデルが大きく変わってしまう可能性がある  \n",
    "   短所⑤: テキストデータなどでは、高い性能が出せない傾向にある  \n",
    "6. 勾配ブースティング回帰木(決定木のアンサンブル法)  \n",
    "   長所①: 木の階層が浅く、予測を高速に行うことが可能  \n",
    "   長所②: パラメータを正しく設定することにより、ランダムフォレストよりも性能が高くなる  \n",
    "   長所③: 特徴量のスケール変換(正規化)を行う必要がない  \n",
    "   短所①: ランダムフォレストに比べ、パラメータの設定による影響を受け易い  \n",
    "   短所②: パラメータの調整にきを気をつける必要がある  \n",
    "   短所③: 訓練に相当の時間がかかる  \n",
    "   短所④: 決定木の数を多くしすぎると、訓練データに過剰に適合し、テストデータとの結果の差異が大きくなる  \n",
    "7. サポートベクタマシン  \n",
    "   長所①: 様々なデータに対して高い性能が出る  \n",
    "   長所②: 特徴量が少ない場合でも、複雑な予測をすることが可能  \n",
    "   長所③: 未知のデータに対しても、高い性能が出る  \n",
    "   短所①: 十分な前処理をする必要がある  \n",
    "   短所②: パラメータの調整に気をつける必要がある  \n",
    "   短所③: 予測結果の理由付けが難しい  \n",
    "   短所④: 汎用性に乏しい  \n",
    "8. ニューラルネットワーク  \n",
    "   長所①: 他の手法に比べ複雑なモデルを構築することが可能  \n",
    "   長所②: 大量のデータを扱うことが可能  \n",
    "   長所③: 他の手法に比べ、複雑さを制御する方法が多数ある(隠れ層の数、ユニット数、正則化...)  \n",
    "   短所①: 訓練に膨大な時間がかかる  \n",
    "   短所②: 大量のデータを用意しておくことが必要  \n",
    "   短所③: 十分な前処理をする必要がある  "
   ]
  },
  {
   "cell_type": "markdown",
   "metadata": {
    "collapsed": true
   },
   "source": [
    "### 7. モデル選択の基準\n",
    "###### 答え:  \n",
    "1. 時間  \n",
    "   導入デッドラインまでの残された時間。  \n",
    "   時間が少ない場合、複雑なモデルは選択できない。  \n",
    "2. 予算  \n",
    "   割り当てられる予算。  \n",
    "   予算が少ない場合、複雑なモデルは選択できない。\n",
    "3. 人的リソース  \n",
    "   ニューラルネットワークの知識のある人材が不足している場合、ニューラルネットワークは選択すべきではない。  \n",
    "4. 精度  \n",
    "   要求される精度が高くなければ、簡単なモデルを選択する余地もある。  \n",
    "5. 保持データ  \n",
    "   保持しているデータに適したモデルを選択すべきである。  \n",
    "6. 結果  \n",
    "   分類したいのか、予測したいのかにより、選択するモデルを判断する。  "
   ]
  },
  {
   "cell_type": "markdown",
   "metadata": {},
   "source": [
    "### 8. モデル選択におけるデータ可視化"
   ]
  },
  {
   "cell_type": "code",
   "execution_count": 5,
   "metadata": {
    "collapsed": false,
    "scrolled": true
   },
   "outputs": [
    {
     "data": {
      "text/plain": [
       "<matplotlib.axes._subplots.AxesSubplot at 0x11950a438>"
      ]
     },
     "execution_count": 5,
     "metadata": {},
     "output_type": "execute_result"
    },
    {
     "data": {
      "image/png": "[encoded data removed]",
      "text/plain": [
       "<matplotlib.figure.Figure at 0x11918e400>"
      ]
     },
     "metadata": {},
     "output_type": "display_data"
    }
   ],
   "source": [
    "import matplotlib.pyplot as plt\n",
    "import seaborn as sns\n",
    "%matplotlib inline\n",
    "\n",
    "sns.barplot(x = \"Age\", y = \"Survived\", hue = \"Sex\", data = data_train)"
   ]
  },
  {
   "cell_type": "code",
   "execution_count": 6,
   "metadata": {
    "collapsed": false,
    "scrolled": false
   },
   "outputs": [
    {
     "data": {
      "image/png": "[encoded data removed]",
      "text/plain": [
       "<matplotlib.figure.Figure at 0x11950acf8>"
      ]
     },
     "metadata": {},
     "output_type": "display_data"
    }
   ],
   "source": [
    "sns.pointplot(x = \"Pclass\", y = \"Survived\", hue = \"Sex\", \n",
    "              data = data_train, \n",
    "              palette = {1: \"blue\", 0: \"pink\"}, \n",
    "              markers = [\"*\", \"o\"], linestyle = [\"-\", \"--\"]);"
   ]
  },
  {
   "cell_type": "markdown",
   "metadata": {},
   "source": [
    "### 9. データ可視化の結果について考察せよ\n",
    "##### ・上記の２つの可視化から分かったことについて考察せよ。\n",
    "###### 答え:  \n",
    "　一つ目のグラフからは、女性('Sex=0)においては、13歳から18歳までの'Teenager'の生存率が一番高く、6歳から12歳までの'Child'の生存率が一番低い。  \n",
    "男性(Sex=1)においては、0歳から5歳までの'Baby'の生存率が一番高く、26歳から35歳まで'のYoung Adult'の生存率が一番低い。  \n",
    "また、このグラフからは、女性においては、年齢の高低と生存率の関係は見られないが、男性においては、年齢が低い世代の生存率が高い。  \n",
    "ただし、男性においては、一定の世代以降になると、年齢と生存率の関係は見られない。  \n",
    "　つまり、年齢と生存率の相関関係は低く、女性の年齢ごとの生存率と男性の年齢ごとの生存率の相関関係も低いと推測できる。  \n",
    "\n",
    "　二つ目のグラフからは、女性においては、チケットクラスが一番高いものが生存率も一番高く、チケットクラスが一番低いものが生存率も一番低い。　　\n",
    "しかし、真ん中のチケットクラスの生存率は、一番高いチケットクラスの生存率に近い。  \n",
    "男性においても、チケットクラスが一番高いものが生存率も一番高く、チケットクラスの一番低いものが生存率も一番低い。  \n",
    "しかし、真ん中のチケットクラスの生存率は、一番低いチケットクラスの生存率に近い。  \n",
    "　つまり、チケットクラスと生存率に強い相関関係があり、女性のチケットクラスごとの生存率と男性のチケットクラスごとの生存率にも、ある程度の相関関係があると推測できる。　　\n",
    "\n",
    "##### ・上記の考察結果から、モデル選択を考える場合、どのようなことが考えられるか\n",
    "###### 答え:  \n",
    "　特徴量同士の相関関係が低いと推測できる一つ目のグラフのデータに対しては、相関関係が低くても予測できるモデルを選択する。  \n",
    "一方、ある程度の相関関係が見られると推測できる二つ目のグラフのデータに対しては、相関関係が高い場合に予測できるモデルを選択することができる。  \n",
    "　また、一つ目のグラフは年齢のデータが連続値となり得るため、回帰問題を扱えるモデルを選択することができる。  \n",
    "一方、二つ目のグラフはチケットクラスが連続値ではないため、クラス分類問題を扱えるモデルを選択する必要がある。"
   ]
  },
  {
   "cell_type": "markdown",
   "metadata": {},
   "source": [
    "### 10. データセットの分割"
   ]
  },
  {
   "cell_type": "code",
   "execution_count": 7,
   "metadata": {
    "collapsed": false
   },
   "outputs": [],
   "source": [
    "from sklearn.model_selection import train_test_split\n",
    "X = data_train.drop([\"Survived\", \"PassengerId\"], axis = 1)\n",
    "y = data_train[\"Survived\"]\n",
    "X_train, X_test, y_train, y_test = train_test_split(X, y, test_size = 0.2, random_state = 0)"
   ]
  },
  {
   "cell_type": "markdown",
   "metadata": {},
   "source": [
    "### 11. ランダムフォレストについて記述せよ\n",
    "##### ・決定木とはどのような手法か\n",
    "###### 答え:  \n",
    "与えられる質問に対し、木構造を構築し、Yes/Noの形で分類する。  \n",
    "##### ・ランダムフォレストとはどのような手法か\n",
    "###### 答え:  \n",
    "決定木の短所である過剰適合を回避するために、複数の異なるランダムな決定木を用いて分類する。\n",
    "##### ・ランダムフォレストの長所と短所をそれぞれ3つ以上挙げてください。\n",
    "###### 答え:  \n",
    "長所①: 決定木と同様に、精度の高い予測が可能である  \n",
    "長所②: 決定木の短所である、過剰適合を防ぐことができる  \n",
    "長所③: それぞれの特徴量の重要度が信頼できる  \n",
    "長所④: パラメータのチューニングをせずとも、高い性能が出る  \n",
    "\n",
    "短所①: 精度の高く、かつ、お互いが異なる決定木を多く作成する必要がある  \n",
    "短所②: 複数の決定木の予測プロセスをトレースすることは難しい  \n",
    "短所③: 特徴量の数に応じ、決定木の構築に時間がかかる  \n",
    "短所④: 決定木を作成する数を固定しておかないと、構築されるモデルが大きく変わってしまう可能性がある  \n",
    "短所⑤: テキストデータなどでは、高い性能が出せない傾向にある  \n",
    "##### ・今回の目的からランダムフォレストの手法が適する理由を考察し、記述せよ\n",
    "###### 答え:  \n",
    "理由1: 回帰問題とクラス分類の両方を扱うことができるから  \n",
    "理由2: 最終的なアウトプットである生死の判定には決定木のモデルが適用できるから  "
   ]
  },
  {
   "cell_type": "markdown",
   "metadata": {},
   "source": [
    "### 12. 学習"
   ]
  },
  {
   "cell_type": "code",
   "execution_count": 8,
   "metadata": {
    "collapsed": false
   },
   "outputs": [
    {
     "data": {
      "text/plain": [
       "RandomForestClassifier(bootstrap=True, class_weight=None, criterion='entropy',\n",
       "            max_depth=10, max_features='sqrt', max_leaf_nodes=None,\n",
       "            min_impurity_split=1e-07, min_samples_leaf=1,\n",
       "            min_samples_split=2, min_weight_fraction_leaf=0.0,\n",
       "            n_estimators=500, n_jobs=1, oob_score=False, random_state=None,\n",
       "            verbose=0, warm_start=False)"
      ]
     },
     "execution_count": 8,
     "metadata": {},
     "output_type": "execute_result"
    }
   ],
   "source": [
    "from sklearn.ensemble import RandomForestClassifier\n",
    "from sklearn.metrics import make_scorer, accuracy_score\n",
    "from sklearn.model_selection import GridSearchCV\n",
    "\n",
    "clf = RandomForestClassifier()\n",
    "param_grid = {'n_estimators': [500],\n",
    "              'max_features': ['log2', 'sqrt', 'auto'],\n",
    "              'criterion':    ['entropy', 'gini'],\n",
    "              'max_depth':    [2, 3, 5, 10],\n",
    "              'min_samples_split': [2, 3, 5],\n",
    "              'min_samples_leaf':  [1, 5, 8]}\n",
    "acc_scorer = make_scorer(accuracy_score)\n",
    "grid_search = GridSearchCV(clf, param_grid, scoring = acc_scorer)\n",
    "grid_search = grid_search.fit(X_train, y_train)\n",
    "clf = grid_search.best_estimator_\n",
    "clf.fit(X_train, y_train)"
   ]
  },
  {
   "cell_type": "markdown",
   "metadata": {},
   "source": [
    "### 13. accuracyを求めよ"
   ]
  },
  {
   "cell_type": "code",
   "execution_count": 9,
   "metadata": {
    "collapsed": false
   },
   "outputs": [
    {
     "name": "stdout",
     "output_type": "stream",
     "text": [
      "0.837988826816\n"
     ]
    }
   ],
   "source": [
    "predictions = clf.predict(X_test)\n",
    "print(accuracy_score(y_test, predictions))"
   ]
  },
  {
   "cell_type": "markdown",
   "metadata": {},
   "source": [
    "### 14. 精度を高める\n",
    "###### 答え:\n",
    "精度が80%を超えているため、スキップします。    "
   ]
  },
  {
   "cell_type": "markdown",
   "metadata": {},
   "source": [
    "### 15. ハイパーパラメータについて\n",
    "##### ・ハイパーパラメーターとは何か  \n",
    "###### 答え:  \n",
    "トレーニングデータではなく個別に最適化するためのチューニングパラメータのこと。  \n",
    "##### ・ランダムフォレストにおいてどのようなハイパーパラメーターがあるか4つ以上記述せよ  \n",
    "###### 答え:  \n",
    "1. n_estimators  \n",
    "   ランダムフォレストで構築する決定木の数(default = 10)。  \n",
    "2. bootstrap  \n",
    "   決定木を作る際に使用するデータをランダムに、お互いの決定木の間で重複ありで呼び出すためのパラメータ(default = True)。\n",
    "3. max_features \n",
    "   決定木を構築するために使用する特徴量のサブセットの最大数(default = \"auto\")。  \n",
    "   引数は次の通り。  \n",
    "   auto: 特徴量の平方根  \n",
    "   sqrt: 特徴量の平方根  \n",
    "   log2: 2を底とする対数  \n",
    "   None: 特徴量の数  \n",
    "4. max_depth  \n",
    "   決定木の深さの最大値(default = None)。  \n",
    "5. criterion  \n",
    "   決定木を構築するための基準(default = \"gini\")。  \n",
    "   引数は次の通り。  \n",
    "   gini: 不平等度を測定する尺度であるジニ計数を使用(回帰として最大値を見つけるものに向く)  \n",
    "   entropy: 乱雑さを測定する尺度であるエントロピーを使用(クラス分類としてグルーピングするものに向く)  \n",
    "\n",
    "##### ・記述したハイパーパラメーターにおいて、それぞれどのような値が存在するか記述せよ（そのハイパーパラメーターを変化させるとどのようなことが起きるかも記述すること）  \n",
    "###### 答え:  \n",
    "1. n_estimators  \n",
    "   存在する値: 1, 2, 100, 500, [4, 6, 9]...  \n",
    "   変化させることで起きること: 作成される決定木が増え、予測精度に影響を与える  \n",
    "2. bootstrap  \n",
    "   存在する値: True, False  \n",
    "   変化させることで起きること: ブートストラップをするかしないか  \n",
    "3. max_features  \n",
    "   存在する値: \"auto\", \"sqrt\", \"log2\", \"None\"  \n",
    "   変化させることで起きること: 識別性の高い特徴量を使い、訓練データへの適合が容易になる  \n",
    "4. max_depth  \n",
    "   存在する値: 1, 2, 100, [2, 3, 5]...  \n",
    "   変化させることで起きること: 過学習の防止\n",
    "5. criterion  \n",
    "   存在する値: \"gini\", \"entropy\"  \n",
    "   変化させることで起きること: 精度にあまり差はないが、\"entropy\"の方が計算が遅くなる傾向がある  "
   ]
  },
  {
   "cell_type": "markdown",
   "metadata": {},
   "source": [
    "### 16. チューニング\n",
    "精度が80%を超えているため、チューニングはスキップします。  "
   ]
  },
  {
   "cell_type": "markdown",
   "metadata": {},
   "source": [
    "### 17. 検証について記述せよ\n",
    "##### ・検証は何か\n",
    "###### 答え:\n",
    "汎化性能を評価する手法。   \n",
    "##### ・なぜ検証を行う必要があるのか(Accuracyだけではダメな理由も含めること)\n",
    "###### 答え:  \n",
    "訓練データにのみ適合し、未知のデータの予測の精度が低い過学習したモデルになっていないことを確かめるため。  \n",
    "Accuracyのスコアが高いということは分類がうまくいっていることを示すが、汎化性能を評価する指標になり得ないため。  \n",
    "https://mahata.github.io/machine%20learning/2014/12/31/sklearn-accuracy_score/  \n",
    "##### ・主な検証方法について2つ以上記述せよ\n",
    "###### 答え:\n",
    "1. ホールドアウト法  \n",
    "2. k-分割交差検証"
   ]
  },
  {
   "cell_type": "markdown",
   "metadata": {},
   "source": [
    "### 18. KFoldについて記述せよ\n",
    "##### ・K-分割交差検証について説明せよ\n",
    "###### 答え:  \n",
    "汎化性能を検証する手法の一つで、訓練データとテストデータをユーザが定める「k」個に分割し検証する。  \n",
    "検証自体も「k」回実行し、そのうちの1回の検証で「k-1」個をテストに使用し、残りを訓練に使用する。\n",
    "##### ・K-分割交差検証はデータセットを何個に分割するか\n",
    "###### 答え:\n",
    "データセットはユーザが決める「k」個に分割する。  \n",
    "例えば、5個にした場合、1回の検証でテストデータを1、訓練データを4とする。  \n",
    "##### ・データセットを分割する際、その個数はどのように考えると良いか\n",
    "###### 答え:\n",
    "検証の回数もデータセットを分割に指定した回数実行すると考える。  \n",
    "##### ・K-分割交差検証は何回の検証を行うか\n",
    "###### 答え:\n",
    "検証はユーザが決める「k」回検証を行う。  \n",
    "##### ・K-分割交差検証の結果は、最終的にどのように求められるか\n",
    "###### 答え:\n",
    "1回の検証でテストデータを「k-1」、訓練データをその残りを使用し、それを「k」回実行し、それぞれの検証ごとに精度を計算する。"
   ]
  },
  {
   "cell_type": "markdown",
   "metadata": {},
   "source": [
    "### 19. KFoldを実施する"
   ]
  },
  {
   "cell_type": "code",
   "execution_count": 10,
   "metadata": {
    "collapsed": false
   },
   "outputs": [
    {
     "name": "stdout",
     "output_type": "stream",
     "text": [
      "Fold'1'の精度:0.7888888888888889\n",
      "Fold'2'の精度:0.8651685393258427\n",
      "Fold'3'の精度:0.797752808988764\n",
      "Fold'4'の精度:0.8426966292134831\n",
      "Fold'5'の精度:0.8539325842696629\n",
      "Fold'6'の精度:0.8426966292134831\n",
      "Fold'7'の精度:0.797752808988764\n",
      "Fold'8'の精度:0.797752808988764\n",
      "Fold'9'の精度:0.8426966292134831\n",
      "Fold'10'の精度:0.7752808988764045\n",
      "精度の平均:0.8204619225967541\n"
     ]
    }
   ],
   "source": [
    "from sklearn.cross_validation import KFold\n",
    "\n",
    "def run_kfold(clf):\n",
    "    kf = KFold(891, n_folds = 10)\n",
    "    result = []\n",
    "    fold = 0\n",
    "    for train_index, test_index in kf:\n",
    "        fold += 1\n",
    "        X_train, X_test = X.values[train_index], X.values[test_index]\n",
    "        y_train, y_test = y.values[train_index], y.values[test_index]\n",
    "        clf.fit(X_train, y_train)\n",
    "        predictions = clf.predict(X_test)\n",
    "        accuracy = accuracy_score(y_test, predictions)\n",
    "        result.append(accuracy)\n",
    "        print(\"Fold'{0}'の精度:{1}\".format(fold, accuracy))\n",
    "    mean_result = np.mean(result)\n",
    "    print(\"精度の平均:{0}\".format(mean_result))\n",
    "\n",
    "run_kfold(clf)"
   ]
  },
  {
   "cell_type": "markdown",
   "metadata": {},
   "source": [
    "### 20. Kfoldの結果を確認する\n",
    "###### 答え:\n",
    "Mean Accuracyが80%を超えているため、チューニングはスキップします。"
   ]
  },
  {
   "cell_type": "markdown",
   "metadata": {},
   "source": [
    "### 21. どの特徴量が重要であったかを調査する"
   ]
  },
  {
   "cell_type": "code",
   "execution_count": 11,
   "metadata": {
    "collapsed": false
   },
   "outputs": [
    {
     "data": {
      "text/plain": [
       "([<matplotlib.axis.YTick at 0x11cb39080>,\n",
       "  <matplotlib.axis.YTick at 0x11c815860>,\n",
       "  <matplotlib.axis.YTick at 0x11c8e22e8>,\n",
       "  <matplotlib.axis.YTick at 0x11cb68128>,\n",
       "  <matplotlib.axis.YTick at 0x11cb68be0>,\n",
       "  <matplotlib.axis.YTick at 0x11cb586d8>,\n",
       "  <matplotlib.axis.YTick at 0x11cb7e1d0>,\n",
       "  <matplotlib.axis.YTick at 0x11cb7ec88>,\n",
       "  <matplotlib.axis.YTick at 0x11cb8c780>,\n",
       "  <matplotlib.axis.YTick at 0x11cb9a278>],\n",
       " <a list of 10 Text yticklabel objects>)"
      ]
     },
     "execution_count": 11,
     "metadata": {},
     "output_type": "execute_result"
    },
    {
     "data": {
      "image/png": "[encoded data removed]",
      "text/plain": [
       "<matplotlib.figure.Figure at 0x11c97c9b0>"
      ]
     },
     "metadata": {},
     "output_type": "display_data"
    }
   ],
   "source": [
    "values, names = zip(*sorted(zip(clf.feature_importances_, X.columns)))\n",
    "plt.figure(figsize = (10, 10))\n",
    "plt.barh(range(len(names)), values, align = 'center')\n",
    "plt.yticks(range(len(names)), names)"
   ]
  },
  {
   "cell_type": "code",
   "execution_count": null,
   "metadata": {
    "collapsed": true
   },
   "outputs": [],
   "source": []
  }
 ],
 "metadata": {
  "kernelspec": {
   "display_name": "Python 3",
   "language": "python",
   "name": "python3"
  },
  "language_info": {
   "codemirror_mode": {
    "name": "ipython",
    "version": 3
   },
   "file_extension": ".py",
   "mimetype": "text/x-python",
   "name": "python",
   "nbconvert_exporter": "python",
   "pygments_lexer": "ipython3",
   "version": "3.6.0"
  }
 },
 "nbformat": 4,
 "nbformat_minor": 2
}
