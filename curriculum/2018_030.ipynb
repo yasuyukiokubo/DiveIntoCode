{
 "cells": [
  {
   "cell_type": "markdown",
   "metadata": {},
   "source": [
    "### カリキュラム - 【AIコース】 Tuning2 Hyper-Parameters"
   ]
  },
  {
   "cell_type": "code",
   "execution_count": 1,
   "metadata": {
    "collapsed": false
   },
   "outputs": [
    {
     "name": "stderr",
     "output_type": "stream",
     "text": [
      "Using TensorFlow backend.\n",
      "/Users/yasu/.pyenv/versions/anaconda3-4.3.0/lib/python3.6/importlib/_bootstrap.py:205: RuntimeWarning: compiletime version 3.5 of module 'tensorflow.python.framework.fast_tensor_util' does not match runtime version 3.6\n",
      "  return f(*args, **kwds)\n"
     ]
    }
   ],
   "source": [
    "import numpy as np\n",
    "import matplotlib.pyplot as plt\n",
    "%matplotlib inline\n",
    "import pandas as pd\n",
    "from sklearn.preprocessing import LabelEncoder\n",
    "from sklearn.model_selection import train_test_split\n",
    "from keras.utils import np_utils\n",
    "from keras.models import Sequential\n",
    "from keras.layers import Dense\n",
    "from keras.optimizers import SGD, RMSprop, Adagrad, Adadelta, Adam"
   ]
  },
  {
   "cell_type": "code",
   "execution_count": 2,
   "metadata": {
    "collapsed": true
   },
   "outputs": [],
   "source": [
    "# Loading data\n",
    "seed = 7\n",
    "np.random.seed(seed)\n",
    "\n",
    "url = \"http://archive.ics.uci.edu/ml/machine-learning-databases/iris/iris.data\"\n",
    "df_iris = pd.read_csv(url, header = None)\n",
    "df_iris.columns = [\n",
    "    \"sepal length in cm\",\n",
    "    \"sepal width in cm\",\n",
    "    \"petal length in cm\",\n",
    "    \"petal width in cm\",\n",
    "    \"class\"\n",
    "]"
   ]
  },
  {
   "cell_type": "code",
   "execution_count": 3,
   "metadata": {
    "collapsed": true
   },
   "outputs": [],
   "source": [
    "# Preprocessing\n",
    "# split into input X and label y\n",
    "X = df_iris.values[:,0:4].astype(float)\n",
    "y = df_iris.values[:,4]\n",
    "# Convert string to integer\n",
    "encoder = LabelEncoder()\n",
    "y_encoded = encoder.fit_transform(y)\n",
    "# Convert integer to one-hot\n",
    "y_dummy = np_utils.to_categorical(y_encoded)\n",
    "X_train, X_test, y_train, y_test = train_test_split(X, y_dummy)"
   ]
  },
  {
   "cell_type": "code",
   "execution_count": 4,
   "metadata": {
    "collapsed": true
   },
   "outputs": [],
   "source": [
    "# Optimize hyperparameters - Search range\n",
    "prm_grid = {\n",
    "    \"n_layer\":    range(1, 4 + 1),\n",
    "    \"opt\":        [\"SGD\", \"RMSprop\", \"Adagrad\", \"Adadelta\", \"Adam\"],\n",
    "    \"lr\":         [10 ** (-i) for i in range(1, 4)],\n",
    "    \"batch_size\": range(10, 100, 10),\n",
    "}\n",
    "\n",
    "prm_grid_layer = {\n",
    "    \"n_unit\":     range(1, 10 + 1),\n",
    "    \"activation\": [\"sigmoid\", \"tanh\", \"relu\"],\n",
    "}\n",
    "\n",
    "dict_opt = {\n",
    "    \"SGD\":      lambda lr: SGD(lr = lr),\n",
    "    \"RMSprop\":  lambda lr: RMSprop(lr = lr),\n",
    "    \"Adagrad\":  lambda lr: Adagrad(lr = lr),\n",
    "    \"Adadelta\": lambda lr: Adadelta(lr = lr),\n",
    "    \"Adam\":     lambda lr: Adam(lr = lr),\n",
    "}"
   ]
  },
  {
   "cell_type": "code",
   "execution_count": 5,
   "metadata": {
    "collapsed": false
   },
   "outputs": [],
   "source": [
    "# Model selection\n",
    "# Define model\n",
    "def train(X, y, prm, n_epoch):\n",
    "    layers = prm[\"layers\"]\n",
    "    optimizer = dict_opt[prm[\"opt\"]](lr = prm[\"lr\"])\n",
    "    batch_size = prm[\"batch_size\"]\n",
    "    \n",
    "    # Define model architecture\n",
    "    model = Sequential()\n",
    "    for i, l in enumerate(layers):\n",
    "        if i == 0:\n",
    "            model.add(Dense(l[\"n_unit\"], input_dim = 4, activation = l[\"activation\"]))\n",
    "        else:\n",
    "            model.add(Dense(l[\"n_unit\"], activation = l[\"activation\"]))\n",
    "    model.add(Dense(3, activation = \"softmax\"))\n",
    "    \n",
    "    # Compile model\n",
    "    model.compile(\n",
    "        loss =      \"categorical_crossentropy\",\n",
    "        optimizer = optimizer,\n",
    "        metrics =   [\"accuracy\"],\n",
    "    )\n",
    "    validation_split = 0.3\n",
    "    history = model.fit(X, y, \n",
    "                        epochs =           n_epoch,\n",
    "                        batch_size =       batch_size,\n",
    "                        validation_split = validation_split,\n",
    "                        verbose =           False\n",
    "                       )\n",
    "    return model, history"
   ]
  },
  {
   "cell_type": "code",
   "execution_count": 6,
   "metadata": {
    "collapsed": true
   },
   "outputs": [],
   "source": [
    "# 評価関数の定義\n",
    "def mean_best_10_val_acc(history):\n",
    "    df = pd.DataFrame(history.history)\n",
    "    # sort_valuesは昇順のため[::-1]で降順にする\n",
    "    return df[\"val_acc\"].sort_values()[::-1][:10].mean()"
   ]
  },
  {
   "cell_type": "code",
   "execution_count": 7,
   "metadata": {
    "collapsed": false
   },
   "outputs": [
    {
     "name": "stdout",
     "output_type": "stream",
     "text": [
      "sample1:  {'opt': 'SGD', 'n_layer': 2, 'lr': 0.001, 'batch_size': 60, 'layers': [{'n_unit': 10, 'activation': 'relu'}, {'n_unit': 3, 'activation': 'relu'}]}\n",
      "0.29411765933036804\n",
      "sample2:  {'opt': 'RMSprop', 'n_layer': 4, 'lr': 0.1, 'batch_size': 40, 'layers': [{'n_unit': 9, 'activation': 'tanh'}, {'n_unit': 7, 'activation': 'sigmoid'}, {'n_unit': 1, 'activation': 'relu'}, {'n_unit': 7, 'activation': 'relu'}]}\n",
      "0.29411765933036804\n",
      "sample3:  {'opt': 'Adagrad', 'n_layer': 3, 'lr': 0.001, 'batch_size': 60, 'layers': [{'n_unit': 6, 'activation': 'relu'}, {'n_unit': 2, 'activation': 'tanh'}, {'n_unit': 10, 'activation': 'sigmoid'}]}\n",
      "0.29411765933036804\n",
      "sample4:  {'opt': 'RMSprop', 'n_layer': 2, 'lr': 0.01, 'batch_size': 30, 'layers': [{'n_unit': 6, 'activation': 'relu'}, {'n_unit': 3, 'activation': 'tanh'}]}\n",
      "0.9735293896759257\n",
      "sample5:  {'opt': 'Adagrad', 'n_layer': 2, 'lr': 0.001, 'batch_size': 70, 'layers': [{'n_unit': 9, 'activation': 'tanh'}, {'n_unit': 1, 'activation': 'sigmoid'}]}\n",
      "0.29411765933036804\n",
      "sample6:  {'opt': 'Adam', 'n_layer': 1, 'lr': 0.1, 'batch_size': 80, 'layers': [{'n_unit': 7, 'activation': 'tanh'}]}\n",
      "0.970588207244873\n",
      "sample7:  {'opt': 'Adadelta', 'n_layer': 3, 'lr': 0.01, 'batch_size': 40, 'layers': [{'n_unit': 2, 'activation': 'relu'}, {'n_unit': 10, 'activation': 'sigmoid'}, {'n_unit': 6, 'activation': 'relu'}]}\n",
      "0.29411765933036804\n",
      "sample8:  {'opt': 'SGD', 'n_layer': 1, 'lr': 0.001, 'batch_size': 90, 'layers': [{'n_unit': 5, 'activation': 'relu'}]}\n",
      "0.5\n",
      "sample9:  {'opt': 'SGD', 'n_layer': 3, 'lr': 0.01, 'batch_size': 50, 'layers': [{'n_unit': 6, 'activation': 'relu'}, {'n_unit': 3, 'activation': 'sigmoid'}, {'n_unit': 7, 'activation': 'tanh'}]}\n",
      "0.29411765933036804\n",
      "sample10:  {'opt': 'Adam', 'n_layer': 4, 'lr': 0.1, 'batch_size': 10, 'layers': [{'n_unit': 3, 'activation': 'sigmoid'}, {'n_unit': 4, 'activation': 'relu'}, {'n_unit': 3, 'activation': 'tanh'}, {'n_unit': 5, 'activation': 'tanh'}]}\n",
      "0.3411764750585837\n"
     ]
    }
   ],
   "source": [
    "# Run train function\n",
    "from sklearn.model_selection import ParameterSampler\n",
    "\n",
    "n_sample = 10\n",
    "n_epoch = 200\n",
    "\n",
    "prms = ParameterSampler(prm_grid, n_iter = n_sample)\n",
    "best_score = 0\n",
    "best_model = None\n",
    "results = []\n",
    "for i, prm in enumerate(prms):\n",
    "    layers = list(ParameterSampler(prm_grid_layer, n_iter = prm[\"n_layer\"]))\n",
    "    prm[\"layers\"] = layers\n",
    "    print(\"sample{}: \".format(i + 1), prm)\n",
    "    # Learnig\n",
    "    model, history = train(X_train, y_train, prm, n_epoch)\n",
    "    prm[\"score\"] = mean_best_10_val_acc(history)\n",
    "    print(prm[\"score\"])\n",
    "    results.append(prm)\n",
    "    # Update score with best score\n",
    "    if best_score < prm[\"score\"]:\n",
    "        best_score = prm[\"score\"]\n",
    "        best_model = model\n",
    "df_results = pd.DataFrame(results)"
   ]
  },
  {
   "cell_type": "code",
   "execution_count": 8,
   "metadata": {
    "collapsed": false
   },
   "outputs": [
    {
     "data": {
      "text/html": [
       "<div>\n",
       "<table border=\"1\" class=\"dataframe\">\n",
       "  <thead>\n",
       "    <tr style=\"text-align: right;\">\n",
       "      <th></th>\n",
       "      <th>batch_size</th>\n",
       "      <th>layers</th>\n",
       "      <th>lr</th>\n",
       "      <th>n_layer</th>\n",
       "      <th>opt</th>\n",
       "      <th>score</th>\n",
       "    </tr>\n",
       "  </thead>\n",
       "  <tbody>\n",
       "    <tr>\n",
       "      <th>3</th>\n",
       "      <td>30</td>\n",
       "      <td>[{'n_unit': 6, 'activation': 'relu'}, {'n_unit': 3, 'activation': 'tanh'}]</td>\n",
       "      <td>0.010</td>\n",
       "      <td>2</td>\n",
       "      <td>RMSprop</td>\n",
       "      <td>0.973529</td>\n",
       "    </tr>\n",
       "    <tr>\n",
       "      <th>5</th>\n",
       "      <td>80</td>\n",
       "      <td>[{'n_unit': 7, 'activation': 'tanh'}]</td>\n",
       "      <td>0.100</td>\n",
       "      <td>1</td>\n",
       "      <td>Adam</td>\n",
       "      <td>0.970588</td>\n",
       "    </tr>\n",
       "    <tr>\n",
       "      <th>7</th>\n",
       "      <td>90</td>\n",
       "      <td>[{'n_unit': 5, 'activation': 'relu'}]</td>\n",
       "      <td>0.001</td>\n",
       "      <td>1</td>\n",
       "      <td>SGD</td>\n",
       "      <td>0.500000</td>\n",
       "    </tr>\n",
       "    <tr>\n",
       "      <th>9</th>\n",
       "      <td>10</td>\n",
       "      <td>[{'n_unit': 3, 'activation': 'sigmoid'}, {'n_unit': 4, 'activation': 'relu'}, {'n_unit': 3, 'activation': 'tanh'}, {'n_unit': 5, 'activation': 'tanh'}]</td>\n",
       "      <td>0.100</td>\n",
       "      <td>4</td>\n",
       "      <td>Adam</td>\n",
       "      <td>0.341176</td>\n",
       "    </tr>\n",
       "    <tr>\n",
       "      <th>8</th>\n",
       "      <td>50</td>\n",
       "      <td>[{'n_unit': 6, 'activation': 'relu'}, {'n_unit': 3, 'activation': 'sigmoid'}, {'n_unit': 7, 'activation': 'tanh'}]</td>\n",
       "      <td>0.010</td>\n",
       "      <td>3</td>\n",
       "      <td>SGD</td>\n",
       "      <td>0.294118</td>\n",
       "    </tr>\n",
       "    <tr>\n",
       "      <th>6</th>\n",
       "      <td>40</td>\n",
       "      <td>[{'n_unit': 2, 'activation': 'relu'}, {'n_unit': 10, 'activation': 'sigmoid'}, {'n_unit': 6, 'activation': 'relu'}]</td>\n",
       "      <td>0.010</td>\n",
       "      <td>3</td>\n",
       "      <td>Adadelta</td>\n",
       "      <td>0.294118</td>\n",
       "    </tr>\n",
       "    <tr>\n",
       "      <th>4</th>\n",
       "      <td>70</td>\n",
       "      <td>[{'n_unit': 9, 'activation': 'tanh'}, {'n_unit': 1, 'activation': 'sigmoid'}]</td>\n",
       "      <td>0.001</td>\n",
       "      <td>2</td>\n",
       "      <td>Adagrad</td>\n",
       "      <td>0.294118</td>\n",
       "    </tr>\n",
       "    <tr>\n",
       "      <th>2</th>\n",
       "      <td>60</td>\n",
       "      <td>[{'n_unit': 6, 'activation': 'relu'}, {'n_unit': 2, 'activation': 'tanh'}, {'n_unit': 10, 'activation': 'sigmoid'}]</td>\n",
       "      <td>0.001</td>\n",
       "      <td>3</td>\n",
       "      <td>Adagrad</td>\n",
       "      <td>0.294118</td>\n",
       "    </tr>\n",
       "    <tr>\n",
       "      <th>1</th>\n",
       "      <td>40</td>\n",
       "      <td>[{'n_unit': 9, 'activation': 'tanh'}, {'n_unit': 7, 'activation': 'sigmoid'}, {'n_unit': 1, 'activation': 'relu'}, {'n_unit': 7, 'activation': 'relu'}]</td>\n",
       "      <td>0.100</td>\n",
       "      <td>4</td>\n",
       "      <td>RMSprop</td>\n",
       "      <td>0.294118</td>\n",
       "    </tr>\n",
       "    <tr>\n",
       "      <th>0</th>\n",
       "      <td>60</td>\n",
       "      <td>[{'n_unit': 10, 'activation': 'relu'}, {'n_unit': 3, 'activation': 'relu'}]</td>\n",
       "      <td>0.001</td>\n",
       "      <td>2</td>\n",
       "      <td>SGD</td>\n",
       "      <td>0.294118</td>\n",
       "    </tr>\n",
       "  </tbody>\n",
       "</table>\n",
       "</div>"
      ],
      "text/plain": [
       "   batch_size  \\\n",
       "3          30   \n",
       "5          80   \n",
       "7          90   \n",
       "9          10   \n",
       "8          50   \n",
       "6          40   \n",
       "4          70   \n",
       "2          60   \n",
       "1          40   \n",
       "0          60   \n",
       "\n",
       "                                                                                                                                                    layers  \\\n",
       "3                                                                               [{'n_unit': 6, 'activation': 'relu'}, {'n_unit': 3, 'activation': 'tanh'}]   \n",
       "5                                                                                                                    [{'n_unit': 7, 'activation': 'tanh'}]   \n",
       "7                                                                                                                    [{'n_unit': 5, 'activation': 'relu'}]   \n",
       "9  [{'n_unit': 3, 'activation': 'sigmoid'}, {'n_unit': 4, 'activation': 'relu'}, {'n_unit': 3, 'activation': 'tanh'}, {'n_unit': 5, 'activation': 'tanh'}]   \n",
       "8                                       [{'n_unit': 6, 'activation': 'relu'}, {'n_unit': 3, 'activation': 'sigmoid'}, {'n_unit': 7, 'activation': 'tanh'}]   \n",
       "6                                      [{'n_unit': 2, 'activation': 'relu'}, {'n_unit': 10, 'activation': 'sigmoid'}, {'n_unit': 6, 'activation': 'relu'}]   \n",
       "4                                                                            [{'n_unit': 9, 'activation': 'tanh'}, {'n_unit': 1, 'activation': 'sigmoid'}]   \n",
       "2                                      [{'n_unit': 6, 'activation': 'relu'}, {'n_unit': 2, 'activation': 'tanh'}, {'n_unit': 10, 'activation': 'sigmoid'}]   \n",
       "1  [{'n_unit': 9, 'activation': 'tanh'}, {'n_unit': 7, 'activation': 'sigmoid'}, {'n_unit': 1, 'activation': 'relu'}, {'n_unit': 7, 'activation': 'relu'}]   \n",
       "0                                                                              [{'n_unit': 10, 'activation': 'relu'}, {'n_unit': 3, 'activation': 'relu'}]   \n",
       "\n",
       "      lr  n_layer       opt     score  \n",
       "3  0.010        2   RMSprop  0.973529  \n",
       "5  0.100        1      Adam  0.970588  \n",
       "7  0.001        1       SGD  0.500000  \n",
       "9  0.100        4      Adam  0.341176  \n",
       "8  0.010        3       SGD  0.294118  \n",
       "6  0.010        3  Adadelta  0.294118  \n",
       "4  0.001        2   Adagrad  0.294118  \n",
       "2  0.001        3   Adagrad  0.294118  \n",
       "1  0.100        4   RMSprop  0.294118  \n",
       "0  0.001        2       SGD  0.294118  "
      ]
     },
     "execution_count": 8,
     "metadata": {},
     "output_type": "execute_result"
    }
   ],
   "source": [
    "# DataFrameの文字表示の制限を10000文字までにする\n",
    "pd.set_option(\"display.max_colwidth\", 10000)\n",
    "# scoreを降順にする\n",
    "df_results.sort_values(\"score\")[::-1]"
   ]
  },
  {
   "cell_type": "code",
   "execution_count": 9,
   "metadata": {
    "collapsed": false
   },
   "outputs": [
    {
     "data": {
      "text/plain": [
       "loss    0.111261\n",
       "acc     0.973684\n",
       "dtype: float64"
      ]
     },
     "execution_count": 9,
     "metadata": {},
     "output_type": "execute_result"
    }
   ],
   "source": [
    "scores = best_model.evaluate(X_test, y_test, verbose = 0)\n",
    "pd.Series(scores, index = model.metrics_names)"
   ]
  },
  {
   "cell_type": "code",
   "execution_count": null,
   "metadata": {
    "collapsed": true
   },
   "outputs": [],
   "source": []
  }
 ],
 "metadata": {
  "kernelspec": {
   "display_name": "Python 3",
   "language": "python",
   "name": "python3"
  },
  "language_info": {
   "codemirror_mode": {
    "name": "ipython",
    "version": 3
   },
   "file_extension": ".py",
   "mimetype": "text/x-python",
   "name": "python",
   "nbconvert_exporter": "python",
   "pygments_lexer": "ipython3",
   "version": "3.6.0"
  }
 },
 "nbformat": 4,
 "nbformat_minor": 2
}
