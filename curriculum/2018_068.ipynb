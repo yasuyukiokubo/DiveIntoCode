{
 "cells": [
  {
   "cell_type": "markdown",
   "metadata": {},
   "source": [
    "### curriculum - 【AIコース】OpenCV 動画編"
   ]
  },
  {
   "cell_type": "code",
   "execution_count": null,
   "metadata": {
    "collapsed": false
   },
   "outputs": [],
   "source": [
    "import cv2\n",
    "import numpy as np\n",
    "\n",
    "def nothing(x):\n",
    "    pass\n",
    "\n",
    "cap = cv2.VideoCapture(0)\n",
    "cv2.namedWindow(\"img\", cv2.WINDOW_NORMAL)\n",
    "cv2.resizeWindow(\"img\", 800, 600)\n",
    "cv2.createTrackbar(\"low_h\",  \"img\", 0, 180, nothing)\n",
    "cv2.createTrackbar(\"low_s\",  \"img\", 0, 255, nothing)\n",
    "cv2.createTrackbar(\"low_v\",  \"img\", 0, 255, nothing)\n",
    "cv2.createTrackbar(\"high_h\", \"img\", 0, 180, nothing)\n",
    "cv2.createTrackbar(\"high_s\", \"img\", 0, 255, nothing)\n",
    "cv2.createTrackbar(\"high_v\", \"img\", 0, 255, nothing)\n",
    "\n",
    "while(True):\n",
    "    ret, frame = cap.read()\n",
    "    if ret == False:\n",
    "        break\n",
    "    \n",
    "    low_h =  cv2.getTrackbarPos(\"low_h\",  \"img\")\n",
    "    low_s =  cv2.getTrackbarPos(\"low_s\",  \"img\")\n",
    "    low_v =  cv2.getTrackbarPos(\"low_v\",  \"img\")\n",
    "    high_h = cv2.getTrackbarPos(\"high_h\", \"img\")\n",
    "    high_s = cv2.getTrackbarPos(\"high_s\", \"img\")\n",
    "    high_v = cv2.getTrackbarPos(\"high_v\", \"img\")\n",
    "    \n",
    "    hsv =  cv2.cvtColor(frame, cv2.COLOR_BGR2HSV)\n",
    "    low =  np.array([low_h,  low_s,  low_v])\n",
    "    high = np.array([high_h, high_s, high_v])\n",
    "    mask = cv2.inRange(hsv, low, high)\n",
    "    dst = cv2.bitwise_and(frame, frame, mask = mask)\n",
    "    cv2.imshow(\"img\", dst)\n",
    "    \n",
    "    if cv2.waitKey(10) == 27:\n",
    "        break\n",
    "\n",
    "cv2.destroyAllWidow\n",
    "cap.release()"
   ]
  },
  {
   "cell_type": "code",
   "execution_count": null,
   "metadata": {
    "collapsed": false
   },
   "outputs": [],
   "source": [
    "import cv2\n",
    "import numpy as np\n",
    "\n",
    "cv2.namedWindow(\"img\", cv2.WINDOW_NORMAL)\n",
    "cv2.resizeWindow(\"img\", 800, 600)\n",
    "cap = cv2.VideoCapture(0)\n",
    "\n",
    "ret, frame = cap.read()\n",
    "h, w, ch = frame.shape\n",
    "frame_back = np.zeros((h, w, ch), dtype = np.float32)\n",
    "\n",
    "while True:\n",
    "    ret, frame = cap.read()\n",
    "    if ret == False:\n",
    "        break\n",
    "    \n",
    "    frame_diff = cv2.absdiff(frame.astype(np.float32), frame_back)\n",
    "    cv2.accumulateWeighted(frame, frame_back, 0.03)\n",
    "    cv2.imshow(\"img\", frame_diff.astype(np.uint8))\n",
    "    if cv2.waitKey(10) == 27:\n",
    "        break\n",
    "\n",
    "cv2.destroyAllWindows()"
   ]
  },
  {
   "cell_type": "code",
   "execution_count": null,
   "metadata": {
    "collapsed": false
   },
   "outputs": [],
   "source": [
    "import cv2\n",
    "\n",
    "cv2.namedWindow(\"img\", cv2.WINDOW_NORMAL)\n",
    "cv2.resizeWindow(\"img\", 800, 600)\n",
    "cap = cv2.VideoCapture(0)\n",
    "\n",
    "COUNT = 500  #C 何個の特徴点を見つけるか指定\n",
    "criteria = (cv2.TERM_CRITERIA_MAX_ITER | cv2.TERM_CRITERIA_EPS, 20, 0.03)\n",
    "lk_params = dict(winSize = (10, 10), maxLevel = 4, criteria = criteria)\n",
    "ret, frame = cap.read()\n",
    "frame_pre = cv2.cvtColor(frame, cv2.COLOR_BGR2GRAY)\n",
    "while True:\n",
    "    ret, frame = cap.read()\n",
    "    if ret == False:\n",
    "        break\n",
    "    frame_now = cv2.cvtColor(frame, cv2.COLOR_BGR2GRAY)\n",
    "    feature_pre = cv2.goodFeaturesToTrack(frame_pre, COUNT, 0.001, 5)\n",
    "    if feature_pre is None:\n",
    "        continue\n",
    "    feature_now, status, err = cv2.calcOpticalFlowPyrLK(frame_pre,\n",
    "                                                       frame_now,\n",
    "                                                       feature_pre,\n",
    "                                                       None,\n",
    "                                                       **lk_params)\n",
    "    for i in range(COUNT):\n",
    "        pre_x = feature_pre[i][0][0]\n",
    "        pre_y = feature_pre[i][0][1]\n",
    "        now_x = feature_now[i][0][0]\n",
    "        now_y = feature_now[i][0][1]\n",
    "        cv2.line(frame, (pre_x, pre_y), (now_x, now_y), (255, 0, 0), 3)\n",
    "    cv2.imshow(\"img\", frame)\n",
    "    frame_pre = frame_now.copy()\n",
    "    if cv2.waitKey(10) == 27:\n",
    "        break\n",
    "\n",
    "cv2.destroyAllWindows()"
   ]
  },
  {
   "cell_type": "code",
   "execution_count": null,
   "metadata": {
    "collapsed": true
   },
   "outputs": [],
   "source": []
  },
  {
   "cell_type": "code",
   "execution_count": null,
   "metadata": {
    "collapsed": true
   },
   "outputs": [],
   "source": [
    "#C This is just a sample from http://labs.eecs.tottori-u.ac.jp/sd/Member/oyamada/OpenCV/html/py_tutorials/py_gui/py_video_display/py_video_display.html\n",
    "import numpy as np\n",
    "import cv2\n",
    "\n",
    "cap = cv2.VideoCapture(0)\n",
    "\n",
    "while(True):\n",
    "    # Capture frame-by-frame\n",
    "    ret, frame = cap.read()\n",
    "\n",
    "    # Our operations on the frame come here\n",
    "    gray = cv2.cvtColor(frame, cv2.COLOR_BGR2GRAY)\n",
    "\n",
    "    # Display the resulting frame\n",
    "    cv2.imshow('frame',gray)\n",
    "    if cv2.waitKey(1) & 0xFF == ord('q'):\n",
    "        break\n",
    "\n",
    "# When everything done, release the capture\n",
    "cap.release()\n",
    "cv2.destroyAllWindows()"
   ]
  },
  {
   "cell_type": "code",
   "execution_count": null,
   "metadata": {
    "collapsed": true
   },
   "outputs": [],
   "source": []
  }
 ],
 "metadata": {
  "kernelspec": {
   "display_name": "Python 3",
   "language": "python",
   "name": "python3"
  },
  "language_info": {
   "codemirror_mode": {
    "name": "ipython",
    "version": 3
   },
   "file_extension": ".py",
   "mimetype": "text/x-python",
   "name": "python",
   "nbconvert_exporter": "python",
   "pygments_lexer": "ipython3",
   "version": "3.6.0"
  }
 },
 "nbformat": 4,
 "nbformat_minor": 2
}
