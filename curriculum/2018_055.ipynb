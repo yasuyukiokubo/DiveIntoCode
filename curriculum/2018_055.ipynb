{
 "cells": [
  {
   "cell_type": "markdown",
   "metadata": {},
   "source": [
    "### curriculum - 【AIコース】強化学習　入門編3 Policy gradient methodとBandit問題"
   ]
  },
  {
   "cell_type": "code",
   "execution_count": 1,
   "metadata": {
    "collapsed": false
   },
   "outputs": [],
   "source": [
    "import tensorflow as tf\n",
    "import tensorflow.contrib.slim as slim\n",
    "import numpy as np"
   ]
  },
  {
   "cell_type": "code",
   "execution_count": 2,
   "metadata": {
    "collapsed": true
   },
   "outputs": [],
   "source": [
    "#C Facing error: \n",
    "#C AttributeError: module 'pandas' has no attribute 'computation'\n",
    "#C fixed by running...\n",
    "#C pip install dask --upgrade\n",
    "#C Thanks to...\n",
    "#C https://github.com/tflearn/tflearn/issues/766"
   ]
  },
  {
   "cell_type": "code",
   "execution_count": 3,
   "metadata": {
    "collapsed": false
   },
   "outputs": [],
   "source": [
    "bandit_arms = [0.2, 0, -0.2, -2]\n",
    "num_arms = len(bandit_arms)\n",
    "\n",
    "def pullBandit(bandit):\n",
    "    result = np.random.randn(1)\n",
    "    if result > bandit:\n",
    "        return 1\n",
    "    else:\n",
    "        return -1"
   ]
  },
  {
   "cell_type": "code",
   "execution_count": 4,
   "metadata": {
    "collapsed": true
   },
   "outputs": [],
   "source": [
    "tf.reset_default_graph()\n",
    "weights = tf.Variable(tf.ones([num_arms]))\n",
    "output = tf.nn.softmax(weights)"
   ]
  },
  {
   "cell_type": "code",
   "execution_count": 7,
   "metadata": {
    "collapsed": false
   },
   "outputs": [],
   "source": [
    "reward_holder = tf.placeholder(shape = [1], dtype = tf.float32)\n",
    "action_holder = tf.placeholder(shape = [1], dtype = tf.int32)\n",
    "\n",
    "responsible_output = tf.slice(output, action_holder, [1])\n",
    "loss = -(tf.log(responsible_output) * reward_holder)\n",
    "optimizer = tf.train.AdamOptimizer(learning_rate = 1e-3)\n",
    "update = optimizer.minimize(loss)"
   ]
  },
  {
   "cell_type": "code",
   "execution_count": 11,
   "metadata": {
    "collapsed": false
   },
   "outputs": [
    {
     "name": "stdout",
     "output_type": "stream",
     "text": [
      "Running reward for the4arms of the bandit: [1. 0. 0. 0.]\n",
      "Running reward for the4arms of the bandit: [-5.  3.  6. 13.]\n",
      "Running reward for the4arms of the bandit: [-1.  4. 11. 21.]\n",
      "Running reward for the4arms of the bandit: [-7.  2. 15. 33.]\n",
      "Running reward for the4arms of the bandit: [-4.  1. 19. 49.]\n",
      "Running reward for the4arms of the bandit: [-12.  -2.  20.  57.]\n",
      "Running reward for the4arms of the bandit: [-9. -2. 25. 73.]\n",
      "Running reward for the4arms of the bandit: [-11.  -1.  22.  87.]\n",
      "Running reward for the4arms of the bandit: [-19.   4.  24. 102.]\n",
      "Running reward for the4arms of the bandit: [-28.   4.  24. 123.]\n",
      "Running reward for the4arms of the bandit: [-30.   2.  27. 136.]\n",
      "Running reward for the4arms of the bandit: [-28.   1.  30. 156.]\n",
      "Running reward for the4arms of the bandit: [-31.   4.  30. 172.]\n",
      "Running reward for the4arms of the bandit: [-29.   8.  31. 185.]\n",
      "Running reward for the4arms of the bandit: [-20.   5.  28. 202.]\n",
      "Running reward for the4arms of the bandit: [-22.   5.  25. 217.]\n",
      "Running reward for the4arms of the bandit: [-22.   9.  29. 235.]\n",
      "Running reward for the4arms of the bandit: [-27.  12.  29. 253.]\n",
      "Running reward for the4arms of the bandit: [-24.  13.  28. 270.]\n",
      "Running reward for the4arms of the bandit: [-32.  13.  34. 284.]\n",
      "\n",
      "The most promising arm is 4\n",
      "The estimation is correct\n"
     ]
    }
   ],
   "source": [
    "total_episodes = 1000\n",
    "total_reward = np.zeros(num_arms)\n",
    "init = tf.global_variables_initializer()\n",
    "\n",
    "with tf.Session() as sess:\n",
    "    sess.run(init)\n",
    "    i = 0\n",
    "    while i < total_episodes:\n",
    "        actions = sess.run(output)\n",
    "        a = np.random.choice(actions, p = actions)\n",
    "        action = np.argmax(actions == a)\n",
    "        reward = pullBandit(bandit_arms[action])\n",
    "        _, resp, ww = sess.run([update, responsible_output, weights], \n",
    "                               feed_dict = {reward_holder: [reward],\n",
    "                                            action_holder: [action]})\n",
    "        total_reward[action] += reward\n",
    "        if i % 50 == 0:\n",
    "            print(\"Running reward for the\" + str(num_arms) + \\\n",
    "                  \"arms of the bandit: \" + str(total_reward))\n",
    "        i += 1\n",
    "print(\"\\nThe most promising arm is \"+ str(np.argmax(ww) + 1))\n",
    "\n",
    "if np.argmax(ww) == np.argmax(-np.array(bandit_arms)):\n",
    "    print(\"The estimation is correct\")\n",
    "else:\n",
    "    print(\"The estimation is wrong\")"
   ]
  },
  {
   "cell_type": "code",
   "execution_count": null,
   "metadata": {
    "collapsed": true
   },
   "outputs": [],
   "source": []
  }
 ],
 "metadata": {
  "kernelspec": {
   "display_name": "Python 3",
   "language": "python",
   "name": "python3"
  },
  "language_info": {
   "codemirror_mode": {
    "name": "ipython",
    "version": 3
   },
   "file_extension": ".py",
   "mimetype": "text/x-python",
   "name": "python",
   "nbconvert_exporter": "python",
   "pygments_lexer": "ipython3",
   "version": "3.6.0"
  }
 },
 "nbformat": 4,
 "nbformat_minor": 2
}
