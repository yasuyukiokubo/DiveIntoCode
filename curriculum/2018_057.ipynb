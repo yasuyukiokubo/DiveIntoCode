{
 "cells": [
  {
   "cell_type": "markdown",
   "metadata": {},
   "source": [
    "### curriculum - 【AIコース】強化学習　入門編5 Policy Gradient method"
   ]
  },
  {
   "cell_type": "code",
   "execution_count": 1,
   "metadata": {
    "collapsed": false
   },
   "outputs": [
    {
     "name": "stdout",
     "output_type": "stream",
     "text": [
      "\u001b[33mWARN: gym.spaces.Box autodetected dtype as <class 'numpy.float32'>. Please provide explicit dtype.\u001b[0m\n"
     ]
    }
   ],
   "source": [
    "import tensorflow as tf\n",
    "import tensorflow.contrib.slim as slim\n",
    "import numpy as np\n",
    "import gym\n",
    "import matplotlib.pyplot as plt\n",
    "\n",
    "env = gym.make(\"CartPole-v0\")"
   ]
  },
  {
   "cell_type": "code",
   "execution_count": null,
   "metadata": {
    "collapsed": false
   },
   "outputs": [],
   "source": [
    "env.reset()\n",
    "for _ in range(1000):\n",
    "    env.render()\n",
    "    env.step(env.action_space.sample())"
   ]
  },
  {
   "cell_type": "code",
   "execution_count": 2,
   "metadata": {
    "collapsed": true
   },
   "outputs": [],
   "source": [
    "gamma = 0.99\n",
    "\n",
    "def discount_rewards(r):\n",
    "    discounted_r = np.zeros_like(r)\n",
    "    running_add = 0\n",
    "    \n",
    "    for t in reversed(range(0, r.size)):\n",
    "        running_add = running_add * gamma + r[t]\n",
    "        discounted_r[t] = running_add\n",
    "    \n",
    "    return discounted_r"
   ]
  },
  {
   "cell_type": "code",
   "execution_count": 3,
   "metadata": {
    "collapsed": true
   },
   "outputs": [],
   "source": [
    "class agent():\n",
    "    def __init__(self, lr, s_size, a_size, h_size):\n",
    "        #C 1. エージェントが環境を入力とし、行動を出力する仕組み\n",
    "        self.state_in = tf.placeholder(shape = [None, s_size], dtype = tf.float32)\n",
    "        hidden = slim.fully_connected(self.state_in, \n",
    "                                      h_size,\n",
    "                                      biases_initializer = None,\n",
    "                                      activation_fn = tf.nn.relu)\n",
    "        self.output = slim.fully_connected(hidden, \n",
    "                                           a_size, \n",
    "                                           activation_fn = tf.nn.softmax, \n",
    "                                           biases_initializer = None)\n",
    "        self.chosen_action = tf.argmax(self.output, 1)\n",
    "        #C 2. REINFORCEのアルゴリズムに従って、policyのgradientをとる仕組み\n",
    "        self.reward_holder = tf.placeholder(shape = [None], dtype = tf.float32)\n",
    "        self.action_holder = tf.placeholder(shape = [None], dtype = tf.int32)\n",
    "        self.indexes = tf.range(0, tf.shape(self.output)[0]) * tf.shape(self.output)[1] + self.action_holder\n",
    "        self.responsible_outputs = tf.gather(tf.reshape(self.output, [-1]), self.indexes)\n",
    "        self.loss = -tf.reduce_mean(tf.log(self.responsible_outputs) * self.reward_holder)\n",
    "        tvars = tf.trainable_variables()\n",
    "        self.gradient_holders = []\n",
    "        for idx, var in enumerate(tvars):\n",
    "            placeholder = tf.placeholder(tf.float32, name = str(idx) + \"_holder\")\n",
    "            self.gradient_holders.append(placeholder)\n",
    "        \n",
    "        self.gradients = tf.gradients(self.loss, tvars)\n",
    "        #C 3. 実際にパラメータを更新する仕組み\n",
    "        optimizer = tf.train.AdamOptimizer(learning_rate = lr)\n",
    "        self.update_batch = optimizer.apply_gradients(zip(self.gradient_holders, tvars))"
   ]
  },
  {
   "cell_type": "code",
   "execution_count": 5,
   "metadata": {
    "collapsed": false
   },
   "outputs": [
    {
     "name": "stderr",
     "output_type": "stream",
     "text": [
      "/Users/yasu/.pyenv/versions/anaconda3-4.3.0/lib/python3.6/site-packages/tensorflow/python/ops/gradients_impl.py:91: UserWarning: Converting sparse IndexedSlices to a dense Tensor of unknown shape. This may consume a large amount of memory.\n",
      "  \"Converting sparse IndexedSlices to a dense Tensor of unknown shape. \"\n",
      "/Users/yasu/.pyenv/versions/anaconda3-4.3.0/lib/python3.6/site-packages/numpy/core/fromnumeric.py:2957: RuntimeWarning: Mean of empty slice.\n",
      "  out=out, **kwargs)\n",
      "/Users/yasu/.pyenv/versions/anaconda3-4.3.0/lib/python3.6/site-packages/numpy/core/_methods.py:80: RuntimeWarning: invalid value encountered in double_scalars\n",
      "  ret = ret.dtype.type(ret / rcount)\n"
     ]
    },
    {
     "name": "stdout",
     "output_type": "stream",
     "text": [
      "nan\n",
      "22.25\n",
      "21.11111111111111\n",
      "22.153846153846153\n",
      "22.666666666666668\n",
      "20.88\n",
      "21.448275862068964\n",
      "22.29032258064516\n",
      "22.62857142857143\n",
      "23.974358974358974\n",
      "25.170731707317074\n",
      "25.355555555555554\n",
      "25.285714285714285\n",
      "25.442307692307693\n",
      "25.48148148148148\n",
      "26.406779661016948\n",
      "26.161290322580644\n",
      "26.303030303030305\n",
      "26.492753623188406\n",
      "26.527027027027028\n",
      "26.844155844155843\n",
      "26.426829268292682\n",
      "26.546511627906977\n",
      "27.022727272727273\n",
      "26.847826086956523\n",
      "27.157894736842106\n",
      "27.175257731958762\n",
      "27.75\n",
      "28.11\n",
      "28.17\n",
      "28.21\n",
      "28.25\n",
      "28.55\n",
      "29.17\n",
      "29.67\n",
      "30.19\n",
      "29.96\n",
      "30.06\n",
      "29.98\n",
      "29.54\n",
      "29.85\n",
      "30.12\n",
      "30.76\n",
      "31.56\n",
      "30.65\n",
      "31.08\n",
      "31.61\n",
      "31.92\n",
      "32.17\n",
      "32.3\n",
      "32.82\n"
     ]
    }
   ],
   "source": [
    "tf.reset_default_graph()\n",
    "myAgent = agent(lr = 1e-2, s_size = env.observation_space.shape[0], a_size = env.action_space.n, h_size = 8)\n",
    "total_episodes = 5000\n",
    "max_ep = 999\n",
    "\n",
    "update_frequency = 5\n",
    "init = tf.global_variables_initializer()\n",
    "\n",
    "with tf.Session() as sess:\n",
    "    sess.run(init)\n",
    "    i = 0\n",
    "    total_reward = []\n",
    "    total_length = []\n",
    "    \n",
    "    grad_holder = sess.run(tf.trainable_variables())\n",
    "    for ix, grad in enumerate(grad_holder):\n",
    "        grad_holder[ix] = grad * 0\n",
    "    \n",
    "    while i < total_episodes:\n",
    "        env.render()\n",
    "        s = env.reset()\n",
    "        running_reward = 0\n",
    "        ep_history = []\n",
    "        for j in range(max_ep):\n",
    "            a_dist = sess.run(myAgent.output, feed_dict = {myAgent.state_in:[s]})\n",
    "            a = np.random.choice(a_dist[0], p = a_dist[0])\n",
    "            a = np.argmax(a_dist == a)\n",
    "            s1, r, d, _ = env.step(a)\n",
    "            ep_history.append([s, a, r, s1])\n",
    "            s = s1\n",
    "            running_reward += r\n",
    "            if d == True:\n",
    "                ep_history = np.array(ep_history)\n",
    "                ep_history[:, 2] = discount_rewards(ep_history[:, 2])\n",
    "                feed_dict = {myAgent.reward_holder: ep_history[:, 2],\n",
    "                             myAgent.action_holder: ep_history[:, 1], \n",
    "                             myAgent.state_in: np.vstack(ep_history[:, 0])}\n",
    "                grads = sess.run(myAgent.gradients, feed_dict = feed_dict)\n",
    "                for idx, grad in enumerate(grads):\n",
    "                    grad_holder[idx] += grad\n",
    "                    \n",
    "                if i % update_frequency == 0 and i != 0:\n",
    "                    feed_dict = dictionary = dict(zip(myAgent.gradient_holders, grad_holder))\n",
    "                    _ = sess.run(myAgent.update_batch, feed_dict = feed_dict)\n",
    "                    for ix, grad in enumerate(grad_holder):\n",
    "                        grad_holder[ix] = grad * 0\n",
    "                total_reward.append(running_reward)\n",
    "                total_length.append(j)\n",
    "                break\n",
    "            \n",
    "            if i % 100 == 0:\n",
    "                print(np.mean(total_reward[-100:]))\n",
    "            i += 1\n",
    "            "
   ]
  },
  {
   "cell_type": "code",
   "execution_count": null,
   "metadata": {
    "collapsed": true
   },
   "outputs": [],
   "source": []
  }
 ],
 "metadata": {
  "kernelspec": {
   "display_name": "Python 3",
   "language": "python",
   "name": "python3"
  },
  "language_info": {
   "codemirror_mode": {
    "name": "ipython",
    "version": 3
   },
   "file_extension": ".py",
   "mimetype": "text/x-python",
   "name": "python",
   "nbconvert_exporter": "python",
   "pygments_lexer": "ipython3",
   "version": "3.6.0"
  }
 },
 "nbformat": 4,
 "nbformat_minor": 2
}
