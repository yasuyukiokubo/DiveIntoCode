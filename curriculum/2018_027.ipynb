{
 "cells": [
  {
   "cell_type": "markdown",
   "metadata": {},
   "source": [
    "### カリキュラム - 【AIコース】DeepLearning入門4 TensorFlowによるNNの実装2"
   ]
  },
  {
   "cell_type": "code",
   "execution_count": 1,
   "metadata": {
    "collapsed": false
   },
   "outputs": [
    {
     "name": "stderr",
     "output_type": "stream",
     "text": [
      "/Users/yasu/.pyenv/versions/anaconda3-4.3.0/lib/python3.6/importlib/_bootstrap.py:205: RuntimeWarning: compiletime version 3.5 of module 'tensorflow.python.framework.fast_tensor_util' does not match runtime version 3.6\n",
      "  return f(*args, **kwds)\n"
     ]
    }
   ],
   "source": [
    "import tensorflow as tf\n",
    "import numpy as np"
   ]
  },
  {
   "cell_type": "code",
   "execution_count": 2,
   "metadata": {
    "collapsed": true
   },
   "outputs": [],
   "source": [
    "x_train = np.array([[0,0], [0,1], [1,0], [1,1]])\n",
    "y_train = np.array([[0], [1], [1], [0]])"
   ]
  },
  {
   "cell_type": "code",
   "execution_count": 3,
   "metadata": {
    "collapsed": true
   },
   "outputs": [],
   "source": [
    "x = tf.placeholder(tf.float32, [None, 2], name = \"x\")\n",
    "t = tf.placeholder(tf.float32, [None, 1], name = \"t\")"
   ]
  },
  {
   "cell_type": "code",
   "execution_count": 4,
   "metadata": {
    "collapsed": true
   },
   "outputs": [],
   "source": [
    "W1 = tf.Variable(tf.truncated_normal([2, 2]), name = \"W1\")\n",
    "b1 = tf.Variable(tf.zeros([2]), name = \"b1\")\n",
    "h = tf.nn.sigmoid(tf.matmul(x, W1) + b1, name = \"h\")"
   ]
  },
  {
   "cell_type": "code",
   "execution_count": 5,
   "metadata": {
    "collapsed": true
   },
   "outputs": [],
   "source": [
    "# モデルの出力の定義\n",
    "W2 = tf.Variable(tf.truncated_normal([2, 1]), name = \"W2\")\n",
    "b2 = tf.Variable(tf.zeros([1]), name = \"b2\")\n",
    "y = tf.nn.sigmoid(tf.matmul(h, W2) + b2, name = \"y\")"
   ]
  },
  {
   "cell_type": "code",
   "execution_count": 6,
   "metadata": {
    "collapsed": false
   },
   "outputs": [],
   "source": [
    "# 交差エントロピー誤差の定義\n",
    "with tf.name_scope(\"cross_entropy\"):\n",
    "    cross_entropy = -tf.reduce_sum(t * tf.log(y) + (1 - t) * tf.log(1 - y))\n",
    "# パラメータの最適化\n",
    "with tf.name_scope(\"train\"):\n",
    "    train_step = tf.train.GradientDescentOptimizer(0.1).minimize(cross_entropy)\n",
    "# 正解率の表示\n",
    "with tf.name_scope(\"accuracy\"):\n",
    "    correct_prediction = tf.equal(tf.sign(y - 0.5), tf.sign(t - 0.5))\n",
    "    accuracy = tf.reduce_mean(tf.cast(correct_prediction, tf.float32))"
   ]
  },
  {
   "cell_type": "code",
   "execution_count": 8,
   "metadata": {
    "collapsed": false
   },
   "outputs": [
    {
     "name": "stdout",
     "output_type": "stream",
     "text": [
      "epoc: 0, Accuracy: 0.500000\n",
      "epoc: 100, Accuracy: 0.500000\n",
      "epoc: 200, Accuracy: 0.500000\n",
      "epoc: 300, Accuracy: 0.500000\n",
      "epoc: 400, Accuracy: 0.750000\n",
      "epoc: 500, Accuracy: 0.750000\n",
      "epoc: 600, Accuracy: 0.750000\n",
      "epoc: 700, Accuracy: 0.750000\n",
      "epoc: 800, Accuracy: 0.750000\n",
      "epoc: 900, Accuracy: 1.000000\n",
      "epoc: 1000, Accuracy: 1.000000\n",
      "epoc: 1100, Accuracy: 1.000000\n",
      "epoc: 1200, Accuracy: 1.000000\n",
      "epoc: 1300, Accuracy: 1.000000\n",
      "epoc: 1400, Accuracy: 1.000000\n",
      "epoc: 1500, Accuracy: 1.000000\n",
      "epoc: 1600, Accuracy: 1.000000\n",
      "epoc: 1700, Accuracy: 1.000000\n",
      "epoc: 1800, Accuracy: 1.000000\n",
      "epoc: 1900, Accuracy: 1.000000\n",
      "epoc: 2000, Accuracy: 1.000000\n",
      "epoc: 2100, Accuracy: 1.000000\n",
      "epoc: 2200, Accuracy: 1.000000\n",
      "epoc: 2300, Accuracy: 1.000000\n",
      "epoc: 2400, Accuracy: 1.000000\n",
      "epoc: 2500, Accuracy: 1.000000\n",
      "epoc: 2600, Accuracy: 1.000000\n",
      "epoc: 2700, Accuracy: 1.000000\n",
      "epoc: 2800, Accuracy: 1.000000\n",
      "epoc: 2900, Accuracy: 1.000000\n",
      "epoc: 3000, Accuracy: 1.000000\n",
      "epoc: 3100, Accuracy: 1.000000\n",
      "epoc: 3200, Accuracy: 1.000000\n",
      "epoc: 3300, Accuracy: 1.000000\n",
      "epoc: 3400, Accuracy: 1.000000\n",
      "epoc: 3500, Accuracy: 1.000000\n",
      "epoc: 3600, Accuracy: 1.000000\n",
      "epoc: 3700, Accuracy: 1.000000\n",
      "epoc: 3800, Accuracy: 1.000000\n",
      "epoc: 3900, Accuracy: 1.000000\n",
      "epoc: 4000, Accuracy: 1.000000\n",
      "epoc: 4100, Accuracy: 1.000000\n",
      "epoc: 4200, Accuracy: 1.000000\n",
      "epoc: 4300, Accuracy: 1.000000\n",
      "epoc: 4400, Accuracy: 1.000000\n",
      "epoc: 4500, Accuracy: 1.000000\n",
      "epoc: 4600, Accuracy: 1.000000\n",
      "epoc: 4700, Accuracy: 1.000000\n",
      "epoc: 4800, Accuracy: 1.000000\n",
      "epoc: 4900, Accuracy: 1.000000\n",
      "epoc: 5000, Accuracy: 1.000000\n",
      "epoc: 5100, Accuracy: 1.000000\n",
      "epoc: 5200, Accuracy: 1.000000\n",
      "epoc: 5300, Accuracy: 1.000000\n",
      "epoc: 5400, Accuracy: 1.000000\n",
      "epoc: 5500, Accuracy: 1.000000\n",
      "epoc: 5600, Accuracy: 1.000000\n",
      "epoc: 5700, Accuracy: 1.000000\n",
      "epoc: 5800, Accuracy: 1.000000\n",
      "epoc: 5900, Accuracy: 1.000000\n"
     ]
    }
   ],
   "source": [
    "sess = tf.Session()\n",
    "sess.run(tf.global_variables_initializer())\n",
    "\n",
    "tf.summary.scalar(\"cross_entropy\", cross_entropy)\n",
    "tf.summary.scalar(\"accuracy\", accuracy)\n",
    "tf.summary.histogram(\"weights_h\", W1)\n",
    "tf.summary.histogram(\"biases_h\", b1)\n",
    "tf.summary.histogram(\"weights_out\", W2)\n",
    "tf.summary.histogram(\"biases_out\", b2)\n",
    "\n",
    "writer = tf.summary.FileWriter(\"XOR\", sess.graph)\n",
    "merged = tf.summary.merge_all()\n",
    "\n",
    "for epoch in range(6000):\n",
    "    sess.run(train_step, feed_dict = {\n",
    "        x:x_train,\n",
    "        t:y_train\n",
    "    })\n",
    "    \n",
    "    if epoch % 100 == 0:\n",
    "        acc_val = sess.run(\n",
    "            accuracy, feed_dict = {\n",
    "                x:x_train,\n",
    "                t:y_train\n",
    "            })\n",
    "        print(\"epoc: %d, Accuracy: %f\" %(epoch, acc_val))\n",
    "    \n",
    "    summary, loss_val, acc_val = sess.run([merged, cross_entropy, accuracy], feed_dict = {\n",
    "        x:x_train,\n",
    "        t:y_train\n",
    "    })\n",
    "    writer.add_summary(summary, epoch)\n",
    "\n",
    "classified = correct_prediction.eval(session = sess, feed_dict = {\n",
    "    x:x_train,\n",
    "    t:y_train\n",
    "})\n",
    "prob = y.eval(session = sess, feed_dict = {\n",
    "    x:x_train,\n",
    "})"
   ]
  },
  {
   "cell_type": "code",
   "execution_count": 9,
   "metadata": {
    "collapsed": false
   },
   "outputs": [
    {
     "name": "stdout",
     "output_type": "stream",
     "text": [
      "[[ True]\n",
      " [ True]\n",
      " [ True]\n",
      " [ True]]\n"
     ]
    }
   ],
   "source": [
    "print(classified)"
   ]
  },
  {
   "cell_type": "code",
   "execution_count": 10,
   "metadata": {
    "collapsed": false
   },
   "outputs": [
    {
     "name": "stdout",
     "output_type": "stream",
     "text": [
      "W1:  [[ 7.17579937  5.31642771]\n",
      " [ 7.19384527  5.31976843]]\n",
      "b1:  [-3.26672959 -8.14001465]\n",
      "W2:  [[ 11.8873806 ]\n",
      " [-12.69848347]]\n",
      "b2:  [-5.52412271]\n"
     ]
    }
   ],
   "source": [
    "print(\"W1: \", sess.run(W1))\n",
    "print(\"b1: \", sess.run(b1))\n",
    "print(\"W2: \", sess.run(W2))\n",
    "print(\"b2: \", sess.run(b2))"
   ]
  },
  {
   "cell_type": "code",
   "execution_count": 11,
   "metadata": {
    "collapsed": false
   },
   "outputs": [],
   "source": [
    "# tf.summary.FileWriter(\"XOR\", sess.graph)"
   ]
  },
  {
   "cell_type": "markdown",
   "metadata": {
    "collapsed": true
   },
   "source": [
    "##### tensorboardの表示エラー\n",
    "下記のコマンドをコマンドプロンプトで入力するしたところ、下記のエラーとなった。\n",
    "\n",
    "コマンド:  \n",
    "tensorboard --logdir=/Users/yasu/school/curriculum/2018_027/XOR\n",
    "\n",
    "エラー:  \n",
    "ensorflow RuntimeWarning: compiletime version 3.5 of module 'tensorflow.python.framework.fast_tensor_util' does not match runtime version 3.6\n",
    "\n",
    "解決策として、pythonのヴァージョンを3.6から3.5に下げるか、tensorflowのヴァージョンを1.4.0から1.3.0に下げる。  \n",
    "今回、tensorflowのバージョンを1.3.0に下げた。\n",
    "\n",
    "参考サイト:  \n",
    "https://github.com/tensorflow/tensorflow/issues/14182#issuecomment-346132338\n",
    "\n",
    "tensorflow 1.3.0のインストール:  \n",
    "pip3 install tensorflow==1.3.0\n",
    "\n",
    "これにより、safariでも起動ができた\n"
   ]
  },
  {
   "cell_type": "code",
   "execution_count": null,
   "metadata": {
    "collapsed": true
   },
   "outputs": [],
   "source": []
  },
  {
   "cell_type": "code",
   "execution_count": null,
   "metadata": {
    "collapsed": true
   },
   "outputs": [],
   "source": []
  },
  {
   "cell_type": "code",
   "execution_count": null,
   "metadata": {
    "collapsed": true
   },
   "outputs": [],
   "source": []
  },
  {
   "cell_type": "code",
   "execution_count": null,
   "metadata": {
    "collapsed": true
   },
   "outputs": [],
   "source": []
  },
  {
   "cell_type": "code",
   "execution_count": null,
   "metadata": {
    "collapsed": true
   },
   "outputs": [],
   "source": []
  },
  {
   "cell_type": "code",
   "execution_count": null,
   "metadata": {
    "collapsed": true
   },
   "outputs": [],
   "source": []
  }
 ],
 "metadata": {
  "kernelspec": {
   "display_name": "Python 3",
   "language": "python",
   "name": "python3"
  },
  "language_info": {
   "codemirror_mode": {
    "name": "ipython",
    "version": 3
   },
   "file_extension": ".py",
   "mimetype": "text/x-python",
   "name": "python",
   "nbconvert_exporter": "python",
   "pygments_lexer": "ipython3",
   "version": "3.6.0"
  }
 },
 "nbformat": 4,
 "nbformat_minor": 2
}
