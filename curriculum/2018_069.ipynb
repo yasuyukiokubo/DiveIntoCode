{
 "cells": [
  {
   "cell_type": "markdown",
   "metadata": {},
   "source": [
    "###  curriculum - 【AIコース】画像認識プロジェクト"
   ]
  },
  {
   "cell_type": "code",
   "execution_count": 1,
   "metadata": {
    "collapsed": true
   },
   "outputs": [],
   "source": [
    "import cv2\n",
    "capture = cv2.VideoCapture(\"./input/IMG_0186.MOV\")"
   ]
  },
  {
   "cell_type": "code",
   "execution_count": 2,
   "metadata": {
    "collapsed": false
   },
   "outputs": [
    {
     "data": {
      "text/plain": [
       "<VideoCapture 0x105045bd0>"
      ]
     },
     "execution_count": 2,
     "metadata": {},
     "output_type": "execute_result"
    }
   ],
   "source": [
    "capture"
   ]
  },
  {
   "cell_type": "code",
   "execution_count": 3,
   "metadata": {
    "collapsed": true
   },
   "outputs": [],
   "source": [
    "output_path = \"./output2/\""
   ]
  },
  {
   "cell_type": "code",
   "execution_count": 4,
   "metadata": {
    "collapsed": false
   },
   "outputs": [],
   "source": [
    "img_count = 0\n",
    "frame_count = 0\n",
    "while(capture.isOpened()):\n",
    "    ret, frame = capture.read()\n",
    "    if ret == False:\n",
    "        break\n",
    "    \n",
    "    if frame_count % 1 == 0:\n",
    "        img_file_name = output_path + str(img_count) + \".jpg\"\n",
    "        cv2.imwrite(img_file_name, frame)\n",
    "        img_count += 1\n",
    "    frame_count += 1\n",
    "\n",
    "capture.release()"
   ]
  },
  {
   "cell_type": "code",
   "execution_count": 5,
   "metadata": {
    "collapsed": false
   },
   "outputs": [],
   "source": [
    "import cv2\n",
    "# import os\n",
    "# os.mkdir(\"./output/yasu_face\")\n",
    "\n",
    "for i in range(794):\n",
    "    images_path = \"./output2/\" + str(i) + \".jpg\"\n",
    "    image = cv2.imread(images_path)\n",
    "    image_gray = cv2.cvtColor(image, cv2.COLOR_BGR2GRAY)\n",
    "    rows, cols = image_gray.shape\n",
    "    M = cv2.getRotationMatrix2D((cols/2, rows/2), 270, 1)\n",
    "    image_gray_inveted = cv2.warpAffine(image_gray, M, (cols, rows))\n",
    "    cascade_path = \"/usr/local/opt/opencv/share/OpenCV/haarcascades/haarcascade_frontalface_alt.xml\"\n",
    "    cascade = cv2.CascadeClassifier(cascade_path)\n",
    "    facerect = cascade.detectMultiScale(image_gray_inveted, scaleFactor = 1.2, minNeighbors = 2)\n",
    "    image_path = \"./output2/yasu_face\"\n",
    "    for rect in facerect:\n",
    "        x = rect[0]\n",
    "        y = rect[1]\n",
    "        width = rect[2]\n",
    "        height = rect[3]\n",
    "        dst = image_gray_inveted[y: y + height, \n",
    "                                 x: x + width]\n",
    "        dst = cv2.resize(dst, (36, 36))\n",
    "        new_image_path = image_path + \"/\" + str(i) + \".jpg\";\n",
    "        cv2.imwrite(new_image_path, dst)"
   ]
  },
  {
   "cell_type": "code",
   "execution_count": null,
   "metadata": {
    "collapsed": true
   },
   "outputs": [],
   "source": []
  }
 ],
 "metadata": {
  "kernelspec": {
   "display_name": "Python 3",
   "language": "python",
   "name": "python3"
  },
  "language_info": {
   "codemirror_mode": {
    "name": "ipython",
    "version": 3
   },
   "file_extension": ".py",
   "mimetype": "text/x-python",
   "name": "python",
   "nbconvert_exporter": "python",
   "pygments_lexer": "ipython3",
   "version": "3.6.0"
  }
 },
 "nbformat": 4,
 "nbformat_minor": 2
}
