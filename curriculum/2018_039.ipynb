{
 "cells": [
  {
   "cell_type": "markdown",
   "metadata": {},
   "source": [
    "### カリキュラム - 【AIコース】CNNによる画像分類 実装4"
   ]
  },
  {
   "cell_type": "markdown",
   "metadata": {},
   "source": [
    "##### ・前処理"
   ]
  },
  {
   "cell_type": "code",
   "execution_count": 1,
   "metadata": {
    "collapsed": false
   },
   "outputs": [
    {
     "name": "stderr",
     "output_type": "stream",
     "text": [
      "Using TensorFlow backend.\n",
      "/Users/yasu/.pyenv/versions/anaconda3-4.3.0/lib/python3.6/importlib/_bootstrap.py:205: RuntimeWarning: compiletime version 3.5 of module 'tensorflow.python.framework.fast_tensor_util' does not match runtime version 3.6\n",
      "  return f(*args, **kwds)\n"
     ]
    }
   ],
   "source": [
    "import keras\n",
    "from keras.datasets import mnist\n",
    "from keras.models import Sequential\n",
    "from keras.layers import Dense, Flatten, Conv2D, MaxPooling2D, BatchNormalization, Dropout"
   ]
  },
  {
   "cell_type": "code",
   "execution_count": 2,
   "metadata": {
    "collapsed": true
   },
   "outputs": [],
   "source": [
    "(X_train, y_train), (X_test, y_test) = mnist.load_data()"
   ]
  },
  {
   "cell_type": "code",
   "execution_count": 3,
   "metadata": {
    "collapsed": false
   },
   "outputs": [],
   "source": [
    "img_rows = X_train[0].shape[1]\n",
    "img_cols = X_train[0].shape[0]\n",
    "num_classes = len(set(y_train))"
   ]
  },
  {
   "cell_type": "code",
   "execution_count": 4,
   "metadata": {
    "collapsed": true
   },
   "outputs": [],
   "source": [
    "X_train = X_train.reshape(X_train.shape[0], img_rows, img_cols, 1)\n",
    "X_test = X_test.reshape(X_test.shape[0], img_rows, img_cols, 1)\n",
    "input_shape = X_train.shape[1:4]"
   ]
  },
  {
   "cell_type": "code",
   "execution_count": 5,
   "metadata": {
    "collapsed": true
   },
   "outputs": [],
   "source": [
    "X_train = X_train.astype(\"float32\")\n",
    "X_test = X_test.astype(\"float32\")\n",
    "X_train /= 255\n",
    "X_test /= 255"
   ]
  },
  {
   "cell_type": "code",
   "execution_count": 6,
   "metadata": {
    "collapsed": true
   },
   "outputs": [],
   "source": [
    "y_train = keras.utils.to_categorical(y_train, num_classes)\n",
    "y_test = keras.utils.to_categorical(y_test, num_classes)"
   ]
  },
  {
   "cell_type": "markdown",
   "metadata": {},
   "source": [
    "#### AlexNet\n",
    "##### ・AlexNet - モデル構築"
   ]
  },
  {
   "cell_type": "code",
   "execution_count": 7,
   "metadata": {
    "collapsed": false
   },
   "outputs": [],
   "source": [
    "def AlexNet():\n",
    "    \n",
    "    model = Sequential()\n",
    "    \n",
    "    model.add(Conv2D(96, \n",
    "                     kernel_size = (11, 11),\n",
    "                     strides = (4, 4),\n",
    "                     padding = \"same\",\n",
    "                     activation = \"relu\",\n",
    "                     input_shape = input_shape))\n",
    "    model.add(MaxPooling2D(pool_size = (3, 3),\n",
    "                           strides = (2, 2),\n",
    "                           padding = \"same\"))\n",
    "    model.add(BatchNormalization())\n",
    "    \n",
    "    model.add(Conv2D(256,\n",
    "                     kernel_size = (5, 5),\n",
    "                     strides = (1, 1),\n",
    "                     padding = \"same\",\n",
    "                     activation = \"relu\"))\n",
    "    model.add(MaxPooling2D(pool_size = (3, 3),\n",
    "                           strides = (2, 2),\n",
    "                           padding = \"same\"))\n",
    "    model.add(BatchNormalization())\n",
    "    \n",
    "    model.add(Conv2D(384,\n",
    "                     kernel_size = (3, 3),\n",
    "                     strides = 1,\n",
    "                     padding = \"same\",\n",
    "                     activation = \"relu\"))  \n",
    "    model.add(Conv2D(384,\n",
    "                     kernel_size = (3, 3),\n",
    "                     strides = 1,\n",
    "                     padding = \"same\",\n",
    "                     activation = \"relu\"))           \n",
    "    model.add(Conv2D(256,\n",
    "                     kernel_size = (3, 3),\n",
    "                     strides = 1,\n",
    "                     padding = \"same\",\n",
    "                     activation = \"relu\"))   \n",
    "    model.add(MaxPooling2D(pool_size = (2, 2),\n",
    "                           strides = (2, 2),\n",
    "                           padding = \"same\"))           \n",
    "    model.add(BatchNormalization())\n",
    "    \n",
    "    model.add(Flatten())\n",
    "    \n",
    "    model.add(Dense(2048, activation = \"relu\"))  \n",
    "    model.add(Dropout(0.5))\n",
    "    model.add(Dense(2048, activation = \"relu\"))   \n",
    "    model.add(Dropout(0.5))\n",
    "    model.add(Dense(num_classes, activation = \"softmax\"))\n",
    "    \n",
    "    model.compile(loss = keras.losses.categorical_crossentropy,\n",
    "                  optimizer = keras.optimizers.Adadelta(),\n",
    "                  metrics = [\"accuracy\"])\n",
    "    \n",
    "    return model"
   ]
  },
  {
   "cell_type": "markdown",
   "metadata": {},
   "source": [
    "##### ・AlexNet - 実行"
   ]
  },
  {
   "cell_type": "code",
   "execution_count": null,
   "metadata": {
    "collapsed": false
   },
   "outputs": [],
   "source": [
    "model = AlexNet()\n",
    "model.fit(X_train, y_train,\n",
    "          batch_size = 128,\n",
    "          epochs = 2,\n",
    "          verbose = 1,\n",
    "          validation_data = (X_test, y_test))\n",
    "score = model.evaluate(X_test, y_test, verbose = 1)\n",
    "print(\"Test loss: \", score[0])\n",
    "print(\"Test accuracy: \", score[1])"
   ]
  },
  {
   "cell_type": "code",
   "execution_count": null,
   "metadata": {
    "collapsed": true
   },
   "outputs": [],
   "source": []
  },
  {
   "cell_type": "markdown",
   "metadata": {},
   "source": [
    "#### VGG\n",
    "##### ・VGG - モデル構築"
   ]
  },
  {
   "cell_type": "code",
   "execution_count": 8,
   "metadata": {
    "collapsed": false
   },
   "outputs": [],
   "source": [
    "def VGG():\n",
    "    \n",
    "    model = Sequential()\n",
    "    \n",
    "    model.add(Conv2D(64,\n",
    "                     kernel_size = (3, 3),\n",
    "                     strides = (1, 1),\n",
    "                     padding = \"same\",\n",
    "                     activation = \"relu\",\n",
    "                     input_shape = input_shape))\n",
    "    model.add(Conv2D(64,\n",
    "                     kernel_size = (3, 3),\n",
    "                     strides = (1, 1),\n",
    "                     padding = \"same\",\n",
    "                     activation = \"relu\"))\n",
    "    model.add(MaxPooling2D(pool_size = (2, 2),\n",
    "                           strides = (2, 2),\n",
    "                           padding = \"same\"))\n",
    "    \n",
    "    model.add(Conv2D(128,\n",
    "                     kernel_size = (3, 3),\n",
    "                     strides = (1, 1),\n",
    "                     padding = \"same\",\n",
    "                     activation = \"relu\"))\n",
    "    model.add(Conv2D(128,\n",
    "                     kernel_size = (3, 3),\n",
    "                     strides = (1, 1),\n",
    "                     padding = \"same\",\n",
    "                     activation = \"relu\"))\n",
    "    model.add(MaxPooling2D(pool_size = (2, 2),\n",
    "                           strides = (2, 2),\n",
    "                           padding = \"same\"))\n",
    "    \n",
    "    model.add(Conv2D(256,\n",
    "                     kernel_size = (3, 3),\n",
    "                     strides = (1, 1),\n",
    "                     padding = \"same\",\n",
    "                     activation = \"relu\"))\n",
    "    model.add(Conv2D(256,\n",
    "                     kernel_size = (3, 3),\n",
    "                     strides = (1, 1),\n",
    "                     padding = \"same\",\n",
    "                     activation = \"relu\"))\n",
    "    model.add(Conv2D(256,\n",
    "                     kernel_size = (3, 3),\n",
    "                     strides = (1, 1),\n",
    "                     padding = \"same\",\n",
    "                     activation = \"relu\"))\n",
    "    model.add(MaxPooling2D(pool_size = (2, 2),\n",
    "                           strides = (2, 2),\n",
    "                           padding = \"same\"))\n",
    "    \n",
    "    model.add(Conv2D(512,\n",
    "                     kernel_size = (3, 3),\n",
    "                     strides = (1, 1),\n",
    "                     padding = \"same\",\n",
    "                     activation = \"relu\"))\n",
    "    model.add(Conv2D(512,\n",
    "                     kernel_size = (3, 3),\n",
    "                     strides = (1, 1),\n",
    "                     padding = \"same\",\n",
    "                     activation = \"relu\"))\n",
    "    model.add(Conv2D(512,\n",
    "                     kernel_size = (3, 3),\n",
    "                     strides = (1, 1),\n",
    "                     padding = \"same\",\n",
    "                     activation = \"relu\"))\n",
    "    model.add(MaxPooling2D(pool_size = (2, 2),\n",
    "                           strides = (2, 2),\n",
    "                           padding = \"same\"))\n",
    "    \n",
    "    model.add(Conv2D(512,\n",
    "                     kernel_size = (3, 3),\n",
    "                     strides = (1, 1),\n",
    "                     padding = \"same\",\n",
    "                     activation = \"relu\"))\n",
    "    model.add(Conv2D(512,\n",
    "                     kernel_size = (3, 3),\n",
    "                     strides = (1, 1),\n",
    "                     padding = \"same\",\n",
    "                     activation = \"relu\"))\n",
    "    model.add(Conv2D(512,\n",
    "                     kernel_size = (3, 3),\n",
    "                     strides = (1, 1),\n",
    "                     padding = \"same\",\n",
    "                     activation = \"relu\"))\n",
    "    model.add(MaxPooling2D(pool_size = (2, 2),\n",
    "                           strides = (2, 2),\n",
    "                           padding = \"same\"))\n",
    "    \n",
    "    model.add(Flatten())\n",
    "    model.add(Dense(4096, activation = \"relu\"))\n",
    "    model.add(Dense(4096, activation = \"relu\"))\n",
    "    model.add(Dense(num_classes, activation = \"softmax\"))\n",
    "    \n",
    "    model.compile(loss = keras.losses.categorical_crossentropy,\n",
    "                  optimizer = keras.optimizers.Adadelta(),\n",
    "                  metrics = [\"accuracy\"])\n",
    "    \n",
    "    return model"
   ]
  },
  {
   "cell_type": "markdown",
   "metadata": {},
   "source": [
    "#### ・VGG - 実行"
   ]
  },
  {
   "cell_type": "code",
   "execution_count": null,
   "metadata": {
    "collapsed": false
   },
   "outputs": [],
   "source": [
    "model = VGG()\n",
    "model.fit(X_train, y_train,\n",
    "          batch_size = 128,\n",
    "          epochs = 2,\n",
    "          verbose = 1,\n",
    "          validation_data = (X_test, y_test))\n",
    "score = model.evaluate(x_test, y_test, verbose = 1)\n",
    "print(\"Test loss: \", score[0])\n",
    "print(\"Test accuracy: \", score[1])"
   ]
  },
  {
   "cell_type": "code",
   "execution_count": null,
   "metadata": {
    "collapsed": true
   },
   "outputs": [],
   "source": []
  }
 ],
 "metadata": {
  "kernelspec": {
   "display_name": "Python 3",
   "language": "python",
   "name": "python3"
  },
  "language_info": {
   "codemirror_mode": {
    "name": "ipython",
    "version": 3
   },
   "file_extension": ".py",
   "mimetype": "text/x-python",
   "name": "python",
   "nbconvert_exporter": "python",
   "pygments_lexer": "ipython3",
   "version": "3.6.0"
  }
 },
 "nbformat": 4,
 "nbformat_minor": 2
}
