{
 "cells": [
  {
   "cell_type": "markdown",
   "metadata": {},
   "source": [
    "### curriculum - 【AIコース】画像認識プロジェクト2"
   ]
  },
  {
   "cell_type": "code",
   "execution_count": null,
   "metadata": {
    "collapsed": false
   },
   "outputs": [],
   "source": [
    "'''\n",
    "import cv2\n",
    "import numpy as np\n",
    "\n",
    "path = \"/Users/yasu/school/curriculum/2018_069/output2/yasu_face/\"\n",
    "files = cv2.imread(path + \"0.jpg\", 0)\n",
    "\n",
    "files.shape"
   ]
  },
  {
   "cell_type": "code",
   "execution_count": null,
   "metadata": {
    "collapsed": false
   },
   "outputs": [],
   "source": [
    "'''\n",
    "import cv2\n",
    "import numpy as np\n",
    "import glob\n",
    "\n",
    "def make_data():\n",
    "    path = \"/Users/yasu/school/curriculum/2018_069/output2/yasu_face\"\n",
    "    files = glob.glob(path + \"/*.jpg\")\n",
    "    transformed_images = np.empty((0, 1296), int)\n",
    "    for path in files:\n",
    "        image = cv2.imread(path, 0)\n",
    "        one_dementional_image = list(image.flatten())\n",
    "        transformed_images = np.append(transformed_images, \n",
    "                                       [one_dementional_image],\n",
    "                                       axis = 0)\n",
    "    return(transformed_images)"
   ]
  },
  {
   "cell_type": "code",
   "execution_count": null,
   "metadata": {
    "collapsed": false
   },
   "outputs": [],
   "source": [
    "'''\n",
    "data = make_data()\n",
    "data.shape"
   ]
  },
  {
   "cell_type": "code",
   "execution_count": null,
   "metadata": {
    "collapsed": true
   },
   "outputs": [],
   "source": [
    "'''\n",
    "np.savetxt(\"./output/yasu_face2.csv\", data, delimiter = \",\")"
   ]
  },
  {
   "cell_type": "markdown",
   "metadata": {},
   "source": [
    "#### 小課題"
   ]
  },
  {
   "cell_type": "markdown",
   "metadata": {},
   "source": [
    "##### Model"
   ]
  },
  {
   "cell_type": "code",
   "execution_count": null,
   "metadata": {
    "collapsed": false
   },
   "outputs": [],
   "source": [
    "import keras\n",
    "import numpy as np\n",
    "from keras.models import Sequential\n",
    "from keras.layers import Dense, Flatten\n",
    "from keras.layers import Conv2D, MaxPooling2D\n",
    "from sklearn.model_selection import train_test_split"
   ]
  },
  {
   "cell_type": "code",
   "execution_count": null,
   "metadata": {
    "collapsed": false
   },
   "outputs": [],
   "source": [
    "data =  np.loadtxt(\"./output/yasu_face.csv\",  delimiter = \",\")\n",
    "data2 = np.loadtxt(\"./output/yasu_face2.csv\", delimiter = \",\")\n",
    "print(\"data:\", data.shape, \" / data2:\", data2.shape)"
   ]
  },
  {
   "cell_type": "code",
   "execution_count": null,
   "metadata": {
    "collapsed": false
   },
   "outputs": [],
   "source": [
    "target = np.ones(data.shape[0]) * 0\n",
    "target2 = np.ones(data2.shape[0]) * 1\n",
    "print(\"target:\", target.shape, \" / target2:\", target2.shape)"
   ]
  },
  {
   "cell_type": "code",
   "execution_count": null,
   "metadata": {
    "collapsed": false
   },
   "outputs": [],
   "source": [
    "all_train = np.concatenate((data, data2), 0)\n",
    "all_target = np.concatenate((target, target2), 0)\n",
    "\n",
    "X_train, X_test, y_train, y_test = train_test_split(all_train, all_target, train_size = 0.9, random_state = 1)\n",
    "\n",
    "img_rows = 36\n",
    "img_cols = 36\n",
    "num_classes = len(set(y_train))\n",
    "num_classes"
   ]
  },
  {
   "cell_type": "code",
   "execution_count": null,
   "metadata": {
    "collapsed": true
   },
   "outputs": [],
   "source": [
    "X_train = X_train.reshape(X_train.shape[0], img_rows, img_cols, 1)\n",
    "X_test = X_test.reshape(X_test.shape[0], img_rows, img_cols, 1)\n",
    "input_shape = X_train.shape[1:4]\n",
    "\n",
    "X_train = X_train.astype(\"float32\")\n",
    "X_test = X_test.astype(\"float32\")\n",
    "X_train /= 255\n",
    "X_test /= 255\n",
    "\n",
    "y_train = keras.utils.to_categorical(y_train, num_classes)\n",
    "y_test = keras.utils.to_categorical(y_test, num_classes)"
   ]
  },
  {
   "cell_type": "code",
   "execution_count": null,
   "metadata": {
    "collapsed": false
   },
   "outputs": [],
   "source": [
    "#C Build model\n",
    "model = Sequential()\n",
    "\n",
    "model.add(Conv2D(1, kernel_size = (3, 3),\n",
    "                 strides = (1, 1),\n",
    "                 padding = \"same\",\n",
    "                 activation = \"relu\",\n",
    "                 bias = True,\n",
    "                 input_shape = input_shape))\n",
    "\n",
    "model.add(MaxPooling2D(pool_size = (2, 2),\n",
    "                       strides = None,\n",
    "                       padding = \"valid\"))\n",
    "\n",
    "model.add(Conv2D(1, kernel_size = (3, 3),\n",
    "                 strides = (1, 1),\n",
    "                 padding = \"same\",\n",
    "                 bias = True,\n",
    "                 activation = \"relu\"))\n",
    "\n",
    "model.add(MaxPooling2D(pool_size = (2, 2),\n",
    "                       strides = None,\n",
    "                       padding = \"valid\"))\n",
    "\n",
    "model.add(Flatten())\n",
    "model.add(Dense(128, activation = \"relu\"))\n",
    "# model.add(Dense(num_classes, activation = \"softmax\"))\n",
    "model.add(Dense(num_classes, activation = \"softmax\"))\n",
    "\n",
    "model.compile(loss = keras.losses.categorical_crossentropy,\n",
    "              optimizer = keras.optimizers.Adadelta())\n",
    "\n",
    "model.fit(X_train, y_train, \n",
    "          batch_size = 128, \n",
    "          epochs = 20, \n",
    "          verbose = 1,\n",
    "          validation_data = (X_test, y_test))\n",
    "\n",
    "score = model.evaluate(X_test, y_test, verbose = 1)\n",
    "\n",
    "json_string = model.to_json()\n",
    "open(\"face_model.json\", \"w\").write(json_string)\n",
    "model.save_weights(\"face_model.h5\")"
   ]
  },
  {
   "cell_type": "markdown",
   "metadata": {},
   "source": [
    "##### 実行"
   ]
  },
  {
   "cell_type": "code",
   "execution_count": null,
   "metadata": {
    "collapsed": false,
    "scrolled": false
   },
   "outputs": [],
   "source": [
    "import cv2\n",
    "from keras.models import model_from_json\n",
    "\n",
    "def predict(image):\n",
    "    model = model_from_json(open(\"face_model.json\").read())\n",
    "    model.load_weights(\"face_model.h5\")\n",
    "    result = model.predict_classes(image)\n",
    "    \n",
    "    if result == 0:\n",
    "        return \"yasu 1\"\n",
    "    elif result == 1:\n",
    "        return \"yasu 2\"\n",
    "    # elif result == 2:\n",
    "    #     return (\"yasu\")\n",
    "\n",
    "def image_processing(image):\n",
    "    gray = cv2.cvtColor(image, cv2.COLOR_BGR2GRAY)\n",
    "    image_gray = cv2.resize(gray, (36, 36))\n",
    "    image_gray = image_gray.reshape(1, 36, 36, 1)\n",
    "    image_gray = image_gray.astype(\"float32\")\n",
    "    image_gray /= 255\n",
    "    \n",
    "    return image_gray\n",
    "    \n",
    "cascade_path = \"/usr/local/opt/opencv/share/OpenCv/haarcascades/haarcascade_frontalface_alt.xml\"\n",
    "cap = cv2.VideoCapture(0)\n",
    "\n",
    "while True:\n",
    "    r, img = cap.read()\n",
    "    \n",
    "    if r == False:\n",
    "        continue\n",
    "    \n",
    "    cv2.imshow(\"Capture\", img)\n",
    "    # if cv2.waitKey(1) == 5:\n",
    "    #C Camera does not stop above condition but it works below condition\n",
    "    #C Thanks to https://gist.github.com/kurozumi/04a75695dc32c46586be0d69e6a8243f\n",
    "    if cv2.waitKey(1) & 0xFF == ord(\"q\"):\n",
    "        break\n",
    "    \n",
    "    cascade = cv2.CascadeClassifier(cascade_path)\n",
    "    frame_gray = cv2.cvtColor(img, cv2.COLOR_BGR2GRAY)\n",
    "    facerect = cascade.detectMultiScale(frame_gray, scaleFactor = 1.2, minNeighbors = 3, minSize = (10, 10))\n",
    "    \n",
    "    # cv2.namedWindow(\"a\")\n",
    "    # cv2.namedWindow(\"b\")\n",
    "    \n",
    "    if len(facerect) > 0:\n",
    "        print(\"face detected\", facerect)\n",
    "        color = (255, 255, 255)\n",
    "        for rect in facerect:\n",
    "            x, y = rect[0: 2]\n",
    "            width, height = rect[2: 4]\n",
    "            image = img[y - 10: y + height, x: x + width]\n",
    "            image_processed = image_processing(image)\n",
    "            result = predict(image_processed)\n",
    "            print(result)\n",
    "            \n",
    "        # cv2.imshow(\"a\", img)\n",
    "        # cv2.imshow(\"b\", img)\n",
    "    \n",
    "    # k = cv2.waitKey(100)\n",
    "    # if k == 20:\n",
    "    #     break\n",
    "\n",
    "#C This enables x button on right top of the capture window\n",
    "#C Thanks to http://labs.eecs.tottori-u.ac.jp/sd/Member/oyamada/OpenCV/html/py_tutorials/py_gui/py_image_display/py_image_display.html\n",
    "cv2.waitKey(0)  #C This enables x button on right top of the capture window\n",
    "cap.release()\n",
    "cv2.destroyAllWindows()\n",
    "# cv2.waitKey(1)"
   ]
  },
  {
   "cell_type": "code",
   "execution_count": null,
   "metadata": {
    "collapsed": true
   },
   "outputs": [],
   "source": []
  }
 ],
 "metadata": {
  "kernelspec": {
   "display_name": "Python 3",
   "language": "python",
   "name": "python3"
  },
  "language_info": {
   "codemirror_mode": {
    "name": "ipython",
    "version": 3
   },
   "file_extension": ".py",
   "mimetype": "text/x-python",
   "name": "python",
   "nbconvert_exporter": "python",
   "pygments_lexer": "ipython3",
   "version": "3.6.0"
  }
 },
 "nbformat": 4,
 "nbformat_minor": 2
}
