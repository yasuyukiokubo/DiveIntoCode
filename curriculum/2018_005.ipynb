{
 "cells": [
  {
   "cell_type": "markdown",
   "metadata": {},
   "source": [
    "### カリキュラム - 【AIコース】教師なし学習　Feature Selection 2 filter method"
   ]
  },
  {
   "cell_type": "code",
   "execution_count": 1,
   "metadata": {
    "collapsed": false
   },
   "outputs": [
    {
     "data": {
      "text/html": [
       "<div>\n",
       "<table border=\"1\" class=\"dataframe\">\n",
       "  <thead>\n",
       "    <tr style=\"text-align: right;\">\n",
       "      <th></th>\n",
       "      <th>1</th>\n",
       "      <th>2</th>\n",
       "      <th>3</th>\n",
       "      <th>4</th>\n",
       "      <th>5</th>\n",
       "      <th>6</th>\n",
       "      <th>7</th>\n",
       "      <th>8</th>\n",
       "      <th>9</th>\n",
       "      <th>10</th>\n",
       "      <th>11</th>\n",
       "      <th>12</th>\n",
       "      <th>13</th>\n",
       "      <th>14</th>\n",
       "      <th>15</th>\n",
       "      <th>16</th>\n",
       "      <th>17</th>\n",
       "      <th>18</th>\n",
       "      <th>19</th>\n",
       "      <th>20</th>\n",
       "    </tr>\n",
       "  </thead>\n",
       "  <tbody>\n",
       "    <tr>\n",
       "      <th>a</th>\n",
       "      <td>4</td>\n",
       "      <td>3</td>\n",
       "      <td>2</td>\n",
       "      <td>0</td>\n",
       "      <td>0</td>\n",
       "      <td>4</td>\n",
       "      <td>2</td>\n",
       "      <td>2</td>\n",
       "      <td>2</td>\n",
       "      <td>4</td>\n",
       "      <td>3</td>\n",
       "      <td>2</td>\n",
       "      <td>0</td>\n",
       "      <td>4</td>\n",
       "      <td>2</td>\n",
       "      <td>3</td>\n",
       "      <td>2</td>\n",
       "      <td>1</td>\n",
       "      <td>1</td>\n",
       "      <td>0</td>\n",
       "    </tr>\n",
       "    <tr>\n",
       "      <th>b</th>\n",
       "      <td>4</td>\n",
       "      <td>4</td>\n",
       "      <td>0</td>\n",
       "      <td>0</td>\n",
       "      <td>2</td>\n",
       "      <td>3</td>\n",
       "      <td>1</td>\n",
       "      <td>0</td>\n",
       "      <td>2</td>\n",
       "      <td>3</td>\n",
       "      <td>4</td>\n",
       "      <td>4</td>\n",
       "      <td>1</td>\n",
       "      <td>3</td>\n",
       "      <td>1</td>\n",
       "      <td>4</td>\n",
       "      <td>3</td>\n",
       "      <td>2</td>\n",
       "      <td>1</td>\n",
       "      <td>1</td>\n",
       "    </tr>\n",
       "    <tr>\n",
       "      <th>c</th>\n",
       "      <td>2</td>\n",
       "      <td>1</td>\n",
       "      <td>3</td>\n",
       "      <td>0</td>\n",
       "      <td>2</td>\n",
       "      <td>2</td>\n",
       "      <td>2</td>\n",
       "      <td>0</td>\n",
       "      <td>4</td>\n",
       "      <td>3</td>\n",
       "      <td>4</td>\n",
       "      <td>2</td>\n",
       "      <td>3</td>\n",
       "      <td>4</td>\n",
       "      <td>0</td>\n",
       "      <td>0</td>\n",
       "      <td>0</td>\n",
       "      <td>1</td>\n",
       "      <td>4</td>\n",
       "      <td>0</td>\n",
       "    </tr>\n",
       "    <tr>\n",
       "      <th>d</th>\n",
       "      <td>4</td>\n",
       "      <td>3</td>\n",
       "      <td>1</td>\n",
       "      <td>0</td>\n",
       "      <td>1</td>\n",
       "      <td>1</td>\n",
       "      <td>3</td>\n",
       "      <td>2</td>\n",
       "      <td>3</td>\n",
       "      <td>1</td>\n",
       "      <td>4</td>\n",
       "      <td>0</td>\n",
       "      <td>2</td>\n",
       "      <td>4</td>\n",
       "      <td>0</td>\n",
       "      <td>0</td>\n",
       "      <td>3</td>\n",
       "      <td>2</td>\n",
       "      <td>0</td>\n",
       "      <td>0</td>\n",
       "    </tr>\n",
       "    <tr>\n",
       "      <th>e</th>\n",
       "      <td>0</td>\n",
       "      <td>0</td>\n",
       "      <td>2</td>\n",
       "      <td>0</td>\n",
       "      <td>1</td>\n",
       "      <td>3</td>\n",
       "      <td>2</td>\n",
       "      <td>4</td>\n",
       "      <td>3</td>\n",
       "      <td>0</td>\n",
       "      <td>1</td>\n",
       "      <td>3</td>\n",
       "      <td>4</td>\n",
       "      <td>4</td>\n",
       "      <td>3</td>\n",
       "      <td>2</td>\n",
       "      <td>0</td>\n",
       "      <td>2</td>\n",
       "      <td>3</td>\n",
       "      <td>0</td>\n",
       "    </tr>\n",
       "    <tr>\n",
       "      <th>f</th>\n",
       "      <td>2</td>\n",
       "      <td>3</td>\n",
       "      <td>4</td>\n",
       "      <td>0</td>\n",
       "      <td>0</td>\n",
       "      <td>0</td>\n",
       "      <td>4</td>\n",
       "      <td>3</td>\n",
       "      <td>2</td>\n",
       "      <td>2</td>\n",
       "      <td>3</td>\n",
       "      <td>3</td>\n",
       "      <td>0</td>\n",
       "      <td>4</td>\n",
       "      <td>3</td>\n",
       "      <td>1</td>\n",
       "      <td>2</td>\n",
       "      <td>1</td>\n",
       "      <td>3</td>\n",
       "      <td>3</td>\n",
       "    </tr>\n",
       "    <tr>\n",
       "      <th>g</th>\n",
       "      <td>1</td>\n",
       "      <td>1</td>\n",
       "      <td>0</td>\n",
       "      <td>0</td>\n",
       "      <td>3</td>\n",
       "      <td>3</td>\n",
       "      <td>2</td>\n",
       "      <td>4</td>\n",
       "      <td>0</td>\n",
       "      <td>0</td>\n",
       "      <td>1</td>\n",
       "      <td>0</td>\n",
       "      <td>3</td>\n",
       "      <td>4</td>\n",
       "      <td>3</td>\n",
       "      <td>2</td>\n",
       "      <td>0</td>\n",
       "      <td>3</td>\n",
       "      <td>4</td>\n",
       "      <td>1</td>\n",
       "    </tr>\n",
       "    <tr>\n",
       "      <th>h</th>\n",
       "      <td>3</td>\n",
       "      <td>4</td>\n",
       "      <td>4</td>\n",
       "      <td>0</td>\n",
       "      <td>0</td>\n",
       "      <td>2</td>\n",
       "      <td>0</td>\n",
       "      <td>3</td>\n",
       "      <td>3</td>\n",
       "      <td>3</td>\n",
       "      <td>1</td>\n",
       "      <td>1</td>\n",
       "      <td>1</td>\n",
       "      <td>4</td>\n",
       "      <td>2</td>\n",
       "      <td>4</td>\n",
       "      <td>3</td>\n",
       "      <td>4</td>\n",
       "      <td>1</td>\n",
       "      <td>2</td>\n",
       "    </tr>\n",
       "    <tr>\n",
       "      <th>i</th>\n",
       "      <td>2</td>\n",
       "      <td>4</td>\n",
       "      <td>1</td>\n",
       "      <td>0</td>\n",
       "      <td>0</td>\n",
       "      <td>1</td>\n",
       "      <td>0</td>\n",
       "      <td>0</td>\n",
       "      <td>3</td>\n",
       "      <td>1</td>\n",
       "      <td>3</td>\n",
       "      <td>0</td>\n",
       "      <td>0</td>\n",
       "      <td>4</td>\n",
       "      <td>2</td>\n",
       "      <td>0</td>\n",
       "      <td>4</td>\n",
       "      <td>2</td>\n",
       "      <td>0</td>\n",
       "      <td>3</td>\n",
       "    </tr>\n",
       "    <tr>\n",
       "      <th>j</th>\n",
       "      <td>0</td>\n",
       "      <td>0</td>\n",
       "      <td>0</td>\n",
       "      <td>0</td>\n",
       "      <td>3</td>\n",
       "      <td>4</td>\n",
       "      <td>2</td>\n",
       "      <td>3</td>\n",
       "      <td>3</td>\n",
       "      <td>2</td>\n",
       "      <td>2</td>\n",
       "      <td>1</td>\n",
       "      <td>3</td>\n",
       "      <td>4</td>\n",
       "      <td>2</td>\n",
       "      <td>1</td>\n",
       "      <td>0</td>\n",
       "      <td>0</td>\n",
       "      <td>3</td>\n",
       "      <td>3</td>\n",
       "    </tr>\n",
       "  </tbody>\n",
       "</table>\n",
       "</div>"
      ],
      "text/plain": [
       "   1  2  3  4  5  6  7  8  9  10  11  12  13  14  15  16  17  18  19  20\n",
       "a  4  3  2  0  0  4  2  2  2   4   3   2   0   4   2   3   2   1   1   0\n",
       "b  4  4  0  0  2  3  1  0  2   3   4   4   1   3   1   4   3   2   1   1\n",
       "c  2  1  3  0  2  2  2  0  4   3   4   2   3   4   0   0   0   1   4   0\n",
       "d  4  3  1  0  1  1  3  2  3   1   4   0   2   4   0   0   3   2   0   0\n",
       "e  0  0  2  0  1  3  2  4  3   0   1   3   4   4   3   2   0   2   3   0\n",
       "f  2  3  4  0  0  0  4  3  2   2   3   3   0   4   3   1   2   1   3   3\n",
       "g  1  1  0  0  3  3  2  4  0   0   1   0   3   4   3   2   0   3   4   1\n",
       "h  3  4  4  0  0  2  0  3  3   3   1   1   1   4   2   4   3   4   1   2\n",
       "i  2  4  1  0  0  1  0  0  3   1   3   0   0   4   2   0   4   2   0   3\n",
       "j  0  0  0  0  3  4  2  3  3   2   2   1   3   4   2   1   0   0   3   3"
      ]
     },
     "execution_count": 1,
     "metadata": {},
     "output_type": "execute_result"
    }
   ],
   "source": [
    "import numpy as np\n",
    "import pandas as pd\n",
    "#参加者の名前（aさんからjさん）\n",
    "name = ['a', 'b', 'c', 'd', 'e', 'f', 'g','h','i','j']\n",
    "#入校した＝１、入校しなかった＝０\n",
    "y=np.array([1, 1, 0, 1, 0, 1, 0, 1, 1, 0])\n",
    "#質問１　今日の説明会は良かった\n",
    "no1=np.array([4, 4, 2, 4, 0, 2, 1, 3, 2, 0])\n",
    "#質問２　スクールに魅力を感じた\n",
    "no2=np.array([3, 4, 1, 3, 0, 3, 1, 4, 4, 0])\n",
    "#質問３　今日の夕飯は焼肉が食べたい\n",
    "no3=np.array([2, 0, 3, 1, 2, 4, 0, 4, 1, 0])\n",
    "#以下質問４〜２０\n",
    "no4=np.array([0, 0, 0, 0, 0, 0, 0, 0, 0, 0])\n",
    "no5=np.array([0, 2, 2, 1, 1, 0, 3, 0, 0, 3])\n",
    "no6=np.array([4, 3, 2, 1, 3, 0, 3, 2, 1, 4])\n",
    "no7=np.array([2, 1, 2, 3, 2, 4, 2, 0, 0, 2])\n",
    "no8=np.array([2, 0, 0, 2, 4, 3, 4, 3, 0, 3])\n",
    "no9=np.array([2, 2, 4, 3, 3, 2, 0, 3, 3, 3])\n",
    "no10=np.array([4, 3, 3, 1, 0, 2, 0, 3, 1, 2])\n",
    "no11=np.array([3, 4, 4, 4, 1, 3, 1, 1, 3, 2])\n",
    "no12=np.array([2, 4, 2, 0, 3, 3, 0, 1, 0, 1])\n",
    "no13=np.array([0, 1, 3, 2, 4, 0, 3, 1, 0, 3])\n",
    "no14=np.array([4, 3, 4, 4, 4, 4, 4, 4, 4, 4])\n",
    "no15=np.array([2, 1, 0, 0, 3, 3, 3, 2, 2, 2])\n",
    "no16=np.array([3, 4, 0, 0, 2, 1, 2, 4, 0, 1])\n",
    "no17=np.array([2, 3, 0, 3, 0, 2, 0, 3, 4, 0])\n",
    "no18=np.array([1, 2, 1, 2, 2, 1, 3, 4, 2, 0])\n",
    "no19=np.array([1, 1, 4, 0, 3, 3, 4, 1, 0, 3])\n",
    "no20=np.array([0, 1, 0, 0, 0, 3, 1, 2, 3, 3])\n",
    "X=np.array([no1,no2,no3,no4,no5,no6,no7,no8,no9,no10,no11,no12,no13,no14,no15,no16,no17,no18,no19,no20]).T\n",
    "variables = [str(i) for i in range(1,21)]\n",
    "df = pd.DataFrame(X, columns=variables, index=name)\n",
    "df # jupyter notebookでの実行をお願いします"
   ]
  },
  {
   "cell_type": "code",
   "execution_count": 2,
   "metadata": {
    "collapsed": false
   },
   "outputs": [
    {
     "data": {
      "text/plain": [
       "['1',\n",
       " '2',\n",
       " '3',\n",
       " '4',\n",
       " '5',\n",
       " '6',\n",
       " '7',\n",
       " '8',\n",
       " '9',\n",
       " '10',\n",
       " '11',\n",
       " '12',\n",
       " '13',\n",
       " '14',\n",
       " '15',\n",
       " '16',\n",
       " '17',\n",
       " '18',\n",
       " '19',\n",
       " '20']"
      ]
     },
     "execution_count": 2,
     "metadata": {},
     "output_type": "execute_result"
    }
   ],
   "source": [
    "variables"
   ]
  },
  {
   "cell_type": "code",
   "execution_count": 27,
   "metadata": {
    "collapsed": true
   },
   "outputs": [],
   "source": [
    "from sklearn.feature_selection import VarianceThreshold\n",
    "x = df.values\n",
    "vt = 0.2\n",
    "sel = VarianceThreshold(threshold = vt)\n",
    "x_after_vt = sel.fit_transform(x)"
   ]
  },
  {
   "cell_type": "code",
   "execution_count": 28,
   "metadata": {
    "collapsed": false
   },
   "outputs": [
    {
     "name": "stdout",
     "output_type": "stream",
     "text": [
      "(10, 20)\n",
      "[[4 3 2 0 0 4 2 2 2 4 3 2 0 4 2 3 2 1 1 0]\n",
      " [4 4 0 0 2 3 1 0 2 3 4 4 1 3 1 4 3 2 1 1]\n",
      " [2 1 3 0 2 2 2 0 4 3 4 2 3 4 0 0 0 1 4 0]\n",
      " [4 3 1 0 1 1 3 2 3 1 4 0 2 4 0 0 3 2 0 0]\n",
      " [0 0 2 0 1 3 2 4 3 0 1 3 4 4 3 2 0 2 3 0]\n",
      " [2 3 4 0 0 0 4 3 2 2 3 3 0 4 3 1 2 1 3 3]\n",
      " [1 1 0 0 3 3 2 4 0 0 1 0 3 4 3 2 0 3 4 1]\n",
      " [3 4 4 0 0 2 0 3 3 3 1 1 1 4 2 4 3 4 1 2]\n",
      " [2 4 1 0 0 1 0 0 3 1 3 0 0 4 2 0 4 2 0 3]\n",
      " [0 0 0 0 3 4 2 3 3 2 2 1 3 4 2 1 0 0 3 3]]\n"
     ]
    }
   ],
   "source": [
    "print(x.shape)\n",
    "print(x)"
   ]
  },
  {
   "cell_type": "code",
   "execution_count": 29,
   "metadata": {
    "collapsed": false
   },
   "outputs": [
    {
     "name": "stdout",
     "output_type": "stream",
     "text": [
      "(10, 18)\n",
      "[[4 3 2 0 4 2 2 2 4 3 2 0 2 3 2 1 1 0]\n",
      " [4 4 0 2 3 1 0 2 3 4 4 1 1 4 3 2 1 1]\n",
      " [2 1 3 2 2 2 0 4 3 4 2 3 0 0 0 1 4 0]\n",
      " [4 3 1 1 1 3 2 3 1 4 0 2 0 0 3 2 0 0]\n",
      " [0 0 2 1 3 2 4 3 0 1 3 4 3 2 0 2 3 0]\n",
      " [2 3 4 0 0 4 3 2 2 3 3 0 3 1 2 1 3 3]\n",
      " [1 1 0 3 3 2 4 0 0 1 0 3 3 2 0 3 4 1]\n",
      " [3 4 4 0 2 0 3 3 3 1 1 1 2 4 3 4 1 2]\n",
      " [2 4 1 0 1 0 0 3 1 3 0 0 2 0 4 2 0 3]\n",
      " [0 0 0 3 4 2 3 3 2 2 1 3 2 1 0 0 3 3]]\n"
     ]
    }
   ],
   "source": [
    "print(x_after_vt.shape)\n",
    "print(x_after_vt)"
   ]
  },
  {
   "cell_type": "code",
   "execution_count": 30,
   "metadata": {
    "collapsed": false
   },
   "outputs": [
    {
     "data": {
      "text/plain": [
       "array(['4', '14'],\n",
       "      dtype='<U2')"
      ]
     },
     "execution_count": 30,
     "metadata": {},
     "output_type": "execute_result"
    }
   ],
   "source": [
    "variables = np.array(variables)\n",
    "variables[sel.variances_ < vt]"
   ]
  },
  {
   "cell_type": "code",
   "execution_count": 31,
   "metadata": {
    "collapsed": true
   },
   "outputs": [],
   "source": [
    "def variance(x):\n",
    "    var = np.sum((x - np.mean(x)) ** 2) / len(x)\n",
    "    return var"
   ]
  },
  {
   "cell_type": "code",
   "execution_count": 32,
   "metadata": {
    "collapsed": false
   },
   "outputs": [
    {
     "name": "stdout",
     "output_type": "stream",
     "text": [
      "[ 2.16  2.41  2.21  0.    1.36  1.61  1.36  2.29  1.05  1.69  1.44  1.84\n",
      "  2.01  0.09  1.16  2.21  2.21  1.16  2.2   1.61]\n"
     ]
    }
   ],
   "source": [
    "print(np.var(x, axis = 0))"
   ]
  },
  {
   "cell_type": "code",
   "execution_count": 34,
   "metadata": {
    "collapsed": false
   },
   "outputs": [
    {
     "name": "stdout",
     "output_type": "stream",
     "text": [
      "(10, 19)\n"
     ]
    }
   ],
   "source": [
    "# SelectKBest\n",
    "from sklearn.feature_selection import VarianceThreshold, SelectKBest\n",
    "vt = VarianceThreshold(threshold = 0)\n",
    "x_vt = vt.fit_transform(x)\n",
    "print(x_vt.shape)"
   ]
  },
  {
   "cell_type": "code",
   "execution_count": 35,
   "metadata": {
    "collapsed": false
   },
   "outputs": [
    {
     "name": "stdout",
     "output_type": "stream",
     "text": [
      "['1' '2' '3' '5' '6' '7' '8' '9' '10' '11' '12' '13' '14' '15' '16' '17'\n",
      " '18' '19' '20']\n"
     ]
    }
   ],
   "source": [
    "variables = np.array(variables)\n",
    "var_vt = variables[vt.variances_ > 0]\n",
    "print(var_vt)"
   ]
  },
  {
   "cell_type": "code",
   "execution_count": 36,
   "metadata": {
    "collapsed": false
   },
   "outputs": [
    {
     "data": {
      "text/plain": [
       "(10, 16)"
      ]
     },
     "execution_count": 36,
     "metadata": {},
     "output_type": "execute_result"
    }
   ],
   "source": [
    "N_features = 16\n",
    "skb = SelectKBest(k = N_features)\n",
    "x_after_skb = skb.fit_transform(x_vt, y)\n",
    "x_after_skb.shape"
   ]
  },
  {
   "cell_type": "code",
   "execution_count": 37,
   "metadata": {
    "collapsed": true
   },
   "outputs": [],
   "source": [
    "from sklearn.feature_selection import f_classif\n",
    "skb = SelectKBest(score_func = f_classif, k = N_features)\n",
    "x_after_skb = skb.fit_transform(x_vt, y)"
   ]
  },
  {
   "cell_type": "code",
   "execution_count": 38,
   "metadata": {
    "collapsed": false
   },
   "outputs": [
    {
     "name": "stdout",
     "output_type": "stream",
     "text": [
      "[ 1 15 11 17  0  3  4  9  8  6 12 14  2 16 18 13  5 10  7]\n"
     ]
    }
   ],
   "source": [
    "idx = np.argsort(skb.scores_)[::-1]\n",
    "print(idx)"
   ]
  },
  {
   "cell_type": "code",
   "execution_count": 40,
   "metadata": {
    "collapsed": false
   },
   "outputs": [
    {
     "data": {
      "text/plain": [
       "'16'"
      ]
     },
     "execution_count": 40,
     "metadata": {},
     "output_type": "execute_result"
    }
   ],
   "source": [
    "variables[15]"
   ]
  },
  {
   "cell_type": "code",
   "execution_count": 42,
   "metadata": {
    "collapsed": false
   },
   "outputs": [
    {
     "name": "stdout",
     "output_type": "stream",
     "text": [
      "['7' '12' '9']\n"
     ]
    }
   ],
   "source": [
    "r = len(var_vt) - N_features\n",
    "print(var_vt[idx][-r:])"
   ]
  },
  {
   "cell_type": "code",
   "execution_count": 43,
   "metadata": {
    "collapsed": false
   },
   "outputs": [
    {
     "name": "stdout",
     "output_type": "stream",
     "text": [
      "['12' '14' '9']\n"
     ]
    }
   ],
   "source": [
    "from sklearn.feature_selection import chi2\n",
    "skb_chi2 = SelectKBest(score_func = chi2, k = N_features)\n",
    "x_after_skb_chi2 = skb_chi2.fit_transform(x_vt, y)\n",
    "\n",
    "idx_chi2 = np.argsort(skb_chi2.scores_)[::-1]\n",
    "print(var_vt[idx_chi2][-r:])"
   ]
  },
  {
   "cell_type": "code",
   "execution_count": 46,
   "metadata": {
    "collapsed": true
   },
   "outputs": [],
   "source": [
    "def variance_for_selectKBest(x, y):\n",
    "    var = np.sum((x - np.mean(x, axis = 0)) ** 2, axis = 0) / len(x)\n",
    "    return var"
   ]
  },
  {
   "cell_type": "code",
   "execution_count": 48,
   "metadata": {
    "collapsed": false
   },
   "outputs": [
    {
     "name": "stdout",
     "output_type": "stream",
     "text": [
      "['15' '9' '14']\n"
     ]
    }
   ],
   "source": [
    "skb_var = SelectKBest(score_func = variance_for_selectKBest, k = N_features)\n",
    "x_after_skb_var = skb_var.fit_transform(x_vt, y)\n",
    "idx_var = np.argsort(skb_var.scores_)[::-1]\n",
    "print(var_vt[idx_var][-r:])"
   ]
  },
  {
   "cell_type": "code",
   "execution_count": 50,
   "metadata": {
    "collapsed": true
   },
   "outputs": [],
   "source": [
    "# SelectPercentile\n",
    "from sklearn.feature_selection import SelectPercentile\n",
    "sp = SelectPercentile(percentile = 50)\n",
    "x_after_sp = sp.fit_transform(x_vt, y)"
   ]
  },
  {
   "cell_type": "code",
   "execution_count": 51,
   "metadata": {
    "collapsed": true
   },
   "outputs": [],
   "source": [
    "from sklearn.feature_selection import SelectPercentile\n",
    "sp = SelectPercentile(percentile = 84)\n",
    "x_after_sp = sp.fit_transform(x_vt, y)"
   ]
  },
  {
   "cell_type": "code",
   "execution_count": null,
   "metadata": {
    "collapsed": true
   },
   "outputs": [],
   "source": []
  }
 ],
 "metadata": {
  "kernelspec": {
   "display_name": "Python 3",
   "language": "python",
   "name": "python3"
  },
  "language_info": {
   "codemirror_mode": {
    "name": "ipython",
    "version": 3
   },
   "file_extension": ".py",
   "mimetype": "text/x-python",
   "name": "python",
   "nbconvert_exporter": "python",
   "pygments_lexer": "ipython3",
   "version": "3.6.0"
  }
 },
 "nbformat": 4,
 "nbformat_minor": 2
}
